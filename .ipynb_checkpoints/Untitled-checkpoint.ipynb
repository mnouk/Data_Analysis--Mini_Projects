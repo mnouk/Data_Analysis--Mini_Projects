{
 "cells": [
  {
   "cell_type": "code",
   "execution_count": 9,
   "metadata": {
    "collapsed": true
   },
   "outputs": [],
   "source": [
    "import requests\n",
    "from bs4 import BeautifulSoup\n",
    "import numpy as np\n",
    "import pandas as pd\n",
    "import html5lib"
   ]
  },
  {
   "cell_type": "code",
   "execution_count": 10,
   "metadata": {
    "collapsed": false
   },
   "outputs": [],
   "source": [
    "basic_url = 'http://isa.epfl.ch/imoniteur_ISAP/!GEDPUBLICREPORTS.filter?ww_i_reportModel=133685247'\n",
    "r = requests.get(basic_url)"
   ]
  },
  {
   "cell_type": "code",
   "execution_count": 11,
   "metadata": {
    "collapsed": true
   },
   "outputs": [],
   "source": [
    "soup = BeautifulSoup(r.text,'html.parser')"
   ]
  },
  {
   "cell_type": "code",
   "execution_count": 12,
   "metadata": {
    "collapsed": false
   },
   "outputs": [
    {
     "name": "stdout",
     "output_type": "stream",
     "text": [
      "ww_x_UNITE_ACAD\n",
      "ww_x_PERIODE_ACAD\n",
      "ww_x_PERIODE_PEDAGO\n",
      "ww_x_HIVERETE\n"
     ]
    },
    {
     "data": {
      "text/plain": [
       "[None, None, None, None]"
      ]
     },
     "execution_count": 12,
     "metadata": {},
     "output_type": "execute_result"
    }
   ],
   "source": [
    "#The attributes we need are the section, the academic period and the period\n",
    "#We print the name of the attributes of research in ISA and see which are the right ones\n",
    "# soup.find_all('select) allows us to take all html code needed\n",
    "#Then we select the name of the list we got from the precedent function\n",
    "\n",
    "[print(i['name']) for i in soup.find_all('select')]\n",
    "\n",
    "#We don't need only ww_x_HIVERETE\n",
    "#We can see that ww_x_UNITE_ACAD is for the section"
   ]
  },
  {
   "cell_type": "code",
   "execution_count": 315,
   "metadata": {
    "collapsed": false
   },
   "outputs": [],
   "source": [
    "#Generate all the attributes we need to set the urls to create the database\n",
    "#To do it, we created a list where each sample is another list whith the value and the name\n",
    "#For the sections, we only need the value of Informatique\n",
    "#For the pedagogic period, we only need the Bachelor and Master values. We also have to be carefull since there\n",
    "#is a Projet de master line, Bachelor semestre 5b/6c and Master semestre 4 without any students \n",
    "\n",
    "attributes = []\n",
    "index_informatique = [i for i in range(len(soup.find_all('option'))) if 'Informatique' in soup.find_all('option')[i]][0]\n",
    "\n",
    "for i in soup.find_all('select'):\n",
    "    content = []\n",
    "    if i['name'] != 'ww_x_HIVERETE':\n",
    "        if i['name'] == 'ww_x_PERIODE_ACAD':\n",
    "            for j in i:\n",
    "                if j['value'] != 'null':\n",
    "                    content.append([j['value'],j.string])\n",
    "        elif i['name'] == 'ww_x_UNITE_ACAD':\n",
    "            line =i.find_all('option')[index_informatique]\n",
    "            content.append([line['value'],line.string])\n",
    "        else:\n",
    "            for j in i:\n",
    "                if j['value'] != 'null' and ('Bachelor' in j.string or 'Master' in j.string) and \\\n",
    "                j.string != 'Bachelor semestre 5b' and j.string != 'Bachelor semestre 6b' and \\\n",
    "                j.string != 'Master semestre 4':\n",
    "                    content.append([j['value'],j.string])\n",
    "        attributes.append([i['name'],content])\n",
    "        \n",
    "attributes[1][1] = np.array(list(reversed(attributes[1][1])))"
   ]
  },
  {
   "cell_type": "code",
   "execution_count": 316,
   "metadata": {
    "collapsed": false
   },
   "outputs": [
    {
     "data": {
      "text/plain": [
       "[['ww_x_UNITE_ACAD', [['249847', 'Informatique']]],\n",
       " ['ww_x_PERIODE_ACAD', array([['978181', '2007-2008'],\n",
       "         ['978187', '2008-2009'],\n",
       "         ['978195', '2009-2010'],\n",
       "         ['39486325', '2010-2011'],\n",
       "         ['123455150', '2011-2012'],\n",
       "         ['123456101', '2012-2013'],\n",
       "         ['213637754', '2013-2014'],\n",
       "         ['213637922', '2014-2015'],\n",
       "         ['213638028', '2015-2016'],\n",
       "         ['355925344', '2016-2017']], \n",
       "        dtype='<U9')],\n",
       " ['ww_x_PERIODE_PEDAGO',\n",
       "  [['249108', 'Bachelor semestre 1'],\n",
       "   ['249114', 'Bachelor semestre 2'],\n",
       "   ['942155', 'Bachelor semestre 3'],\n",
       "   ['942163', 'Bachelor semestre 4'],\n",
       "   ['942120', 'Bachelor semestre 5'],\n",
       "   ['942175', 'Bachelor semestre 6'],\n",
       "   ['2230106', 'Master semestre 1'],\n",
       "   ['942192', 'Master semestre 2'],\n",
       "   ['2230128', 'Master semestre 3'],\n",
       "   ['249127', 'Projet Master automne'],\n",
       "   ['3781783', 'Projet Master printemps']]]]"
      ]
     },
     "execution_count": 316,
     "metadata": {},
     "output_type": "execute_result"
    }
   ],
   "source": [
    "attributes"
   ]
  },
  {
   "cell_type": "markdown",
   "metadata": {},
   "source": [
    "## Question 1"
   ]
  },
  {
   "cell_type": "code",
   "execution_count": 262,
   "metadata": {
    "collapsed": true
   },
   "outputs": [],
   "source": [
    "#Prepare_dataframe allows us to have a dataframe from a url. Then we select the right columns which are the Gender\n",
    "#, the sciper number and date of the bachelor with the right semester\n",
    "#Select_right_order returns first for the bachelor semestre 1 since we want the start date and we will concatenate\n",
    "#all the DataFrames with a chronological order\n",
    "#Concatenate_dataframes_right allows us to do the last point\n",
    "\n",
    "def prepare_dataframe_bachelor(url,i,j):\n",
    "    df = pd.read_html(requests.get(url).text)[0]\n",
    "    df = df.drop([1,2,3,4,5,6,7,8,9,11],axis=1)\n",
    "    df.columns = df.loc[1]\n",
    "    df.columns.name = 0\n",
    "    df = df.drop([0,1],axis=0) \n",
    "    df[i] = float(j[0:4])\n",
    "    return df\n",
    "    \n",
    "def select_right_order(bachelor_name):    \n",
    "    if bachelor_name == 'Bachelor semestre 5' or bachelor_name == 'Bachelor semestre 6':\n",
    "        return 'last'\n",
    "    else:\n",
    "        return 'first'\n",
    "    \n",
    "def concatenate_dataframes_right(df1,df2,order):\n",
    "    df1 = pd.concat([df1,df2])\n",
    "    df1 = df1.drop_duplicates(['No Sciper'],keep=order)\n",
    "    return df1"
   ]
  },
  {
   "cell_type": "code",
   "execution_count": 263,
   "metadata": {
    "collapsed": false
   },
   "outputs": [],
   "source": [
    "#We get all the urls for the bachelor semester 1,5 and 6 since they are the only important ones by concatenating all \n",
    "#the values of the variables in the array attributes\n",
    "#Since we only need Informatique, there is only one value to concatenate each time so we did it\n",
    "#at the beginning. We use the precedent functions to avoid redunduncies\n",
    "# At the end, we take as index the sciper numbers and drop it from the columns\n",
    "\n",
    "u = 'http://isa.epfl.ch/imoniteur_ISAP/!GEDPUBLICREPORTS.html?ww_x_GPS=-1&ww_i_reportModel=133685247&'\\\n",
    "+ 'ww_i_reportModelXsl=133685270&'\n",
    "\n",
    "unite_acad = attributes[0][0] + '=' + attributes[0][1][0][0]\n",
    "u = u + unite_acad + '&'\n",
    "\n",
    "dfs = []\n",
    "for i in np.array(attributes[2][1])[[0,4,5],:]:\n",
    "    url = u + attributes[1][0] + '=' + str(attributes[1][1][0][0]) + '&' + attributes[2][0] + '=' + str(i[0])\n",
    "    dfs.append(prepare_dataframe_bachelor(url,i[1],attributes[1][1][0][1]))\n",
    "    \n",
    "k = 0    \n",
    "\n",
    "for i in np.array(attributes[2][1])[[0,4,5],:]:\n",
    "    for j in attributes[1][1]:\n",
    "        url = u + attributes[1][0] + '=' + str(j[0]) + '&' + attributes[2][0] + '=' + str(i[0])\n",
    "        df2 = prepare_dataframe_bachelor(url,i[1],j[1])\n",
    "        order = select_right_order(i[1])\n",
    "        dfs[k] = concatenate_dataframes_right(dfs[k],df2,order)\n",
    "    dfs[k].index = dfs[k]['No Sciper']\n",
    "    dfs[k] = dfs[k].drop(['No Sciper'],axis=1)\n",
    "    k = k + 1"
   ]
  },
  {
   "cell_type": "code",
   "execution_count": 270,
   "metadata": {
    "collapsed": false
   },
   "outputs": [],
   "source": [
    "#The merge function with inner gives all the student who did their first and last semester at epfl\n",
    "\n",
    "final_bachelor = pd.merge(dfs[0], dfs[2], left_index=True, right_index=True, how='inner',suffixes=['', '_y'])\n",
    "final_bachelor = final_bachelor.drop(['Civilité_y'],axis=1)\n",
    "final_bachelor = pd.merge(final_bachelor, dfs[1], left_index=True, right_index=True, how='inner',suffixes=['', '_y'])\n",
    "final_bachelor = final_bachelor.drop(['Civilité_y'],axis=1)"
   ]
  },
  {
   "cell_type": "code",
   "execution_count": 272,
   "metadata": {
    "collapsed": false
   },
   "outputs": [],
   "source": [
    "#We compute the time for each student to get their bachelor. Since we take the last semestre 6 for each student, \n",
    "#we just have to see if the fifth semestre's year is the same than the sixth semestre's year and if not we\n",
    "#add half of a year in the time\n",
    "\n",
    "time = final_bachelor['Bachelor semestre 6'] - final_bachelor['Bachelor semestre 1'] + 1\n",
    "for i in range(final_bachelor['Bachelor semestre 5'].shape[0]):\n",
    "    if final_bachelor['Bachelor semestre 6'][i] != final_bachelor['Bachelor semestre 5'][i]:\n",
    "        time[i] = time[i] + 0.5\n",
    "final_bachelor['Count'] = time\n",
    "final_bachelor = final_bachelor[['Civilité','Bachelor semestre 1','Bachelor semestre 5','Bachelor semestre 6','Count']]"
   ]
  },
  {
   "cell_type": "code",
   "execution_count": 293,
   "metadata": {
    "collapsed": false
   },
   "outputs": [
    {
     "data": {
      "text/html": [
       "<div>\n",
       "<table border=\"1\" class=\"dataframe\">\n",
       "  <thead>\n",
       "    <tr style=\"text-align: right;\">\n",
       "      <th></th>\n",
       "      <th>Count</th>\n",
       "    </tr>\n",
       "    <tr>\n",
       "      <th>Civilité</th>\n",
       "      <th></th>\n",
       "    </tr>\n",
       "  </thead>\n",
       "  <tbody>\n",
       "    <tr>\n",
       "      <th>Madame</th>\n",
       "      <td>3.396552</td>\n",
       "    </tr>\n",
       "    <tr>\n",
       "      <th>Monsieur</th>\n",
       "      <td>3.574728</td>\n",
       "    </tr>\n",
       "  </tbody>\n",
       "</table>\n",
       "</div>"
      ],
      "text/plain": [
       "0            Count\n",
       "Civilité          \n",
       "Madame    3.396552\n",
       "Monsieur  3.574728"
      ]
     },
     "execution_count": 293,
     "metadata": {},
     "output_type": "execute_result"
    }
   ],
   "source": [
    "#Make the groupby with respect to the Civilité and calculate the mean for each gender\n",
    "\n",
    "gender_group = final_bachelor[['Civilité','Count']]\n",
    "gender_group = gender_group.groupby(gender_group['Civilité'])\n",
    "gender_group.mean()"
   ]
  },
  {
   "cell_type": "code",
   "execution_count": 314,
   "metadata": {
    "collapsed": false
   },
   "outputs": [
    {
     "data": {
      "text/html": [
       "<div>\n",
       "<table border=\"1\" class=\"dataframe\">\n",
       "  <thead>\n",
       "    <tr style=\"text-align: right;\">\n",
       "      <th></th>\n",
       "      <th>Count</th>\n",
       "    </tr>\n",
       "    <tr>\n",
       "      <th>No Sciper</th>\n",
       "      <th></th>\n",
       "    </tr>\n",
       "  </thead>\n",
       "  <tbody>\n",
       "    <tr>\n",
       "      <th>169569</th>\n",
       "      <td>3.0</td>\n",
       "    </tr>\n",
       "    <tr>\n",
       "      <th>179449</th>\n",
       "      <td>3.0</td>\n",
       "    </tr>\n",
       "    <tr>\n",
       "      <th>178553</th>\n",
       "      <td>3.0</td>\n",
       "    </tr>\n",
       "    <tr>\n",
       "      <th>178271</th>\n",
       "      <td>3.0</td>\n",
       "    </tr>\n",
       "    <tr>\n",
       "      <th>180731</th>\n",
       "      <td>3.0</td>\n",
       "    </tr>\n",
       "    <tr>\n",
       "      <th>171619</th>\n",
       "      <td>3.0</td>\n",
       "    </tr>\n",
       "    <tr>\n",
       "      <th>178656</th>\n",
       "      <td>3.0</td>\n",
       "    </tr>\n",
       "    <tr>\n",
       "      <th>181121</th>\n",
       "      <td>3.0</td>\n",
       "    </tr>\n",
       "    <tr>\n",
       "      <th>180570</th>\n",
       "      <td>3.0</td>\n",
       "    </tr>\n",
       "    <tr>\n",
       "      <th>181248</th>\n",
       "      <td>3.0</td>\n",
       "    </tr>\n",
       "    <tr>\n",
       "      <th>178433</th>\n",
       "      <td>3.0</td>\n",
       "    </tr>\n",
       "    <tr>\n",
       "      <th>181298</th>\n",
       "      <td>3.0</td>\n",
       "    </tr>\n",
       "    <tr>\n",
       "      <th>181115</th>\n",
       "      <td>3.0</td>\n",
       "    </tr>\n",
       "    <tr>\n",
       "      <th>180094</th>\n",
       "      <td>3.0</td>\n",
       "    </tr>\n",
       "    <tr>\n",
       "      <th>181017</th>\n",
       "      <td>3.0</td>\n",
       "    </tr>\n",
       "    <tr>\n",
       "      <th>179194</th>\n",
       "      <td>3.0</td>\n",
       "    </tr>\n",
       "    <tr>\n",
       "      <th>180959</th>\n",
       "      <td>3.0</td>\n",
       "    </tr>\n",
       "    <tr>\n",
       "      <th>171195</th>\n",
       "      <td>3.0</td>\n",
       "    </tr>\n",
       "    <tr>\n",
       "      <th>178948</th>\n",
       "      <td>3.0</td>\n",
       "    </tr>\n",
       "    <tr>\n",
       "      <th>180241</th>\n",
       "      <td>3.0</td>\n",
       "    </tr>\n",
       "    <tr>\n",
       "      <th>180854</th>\n",
       "      <td>3.0</td>\n",
       "    </tr>\n",
       "    <tr>\n",
       "      <th>178682</th>\n",
       "      <td>3.0</td>\n",
       "    </tr>\n",
       "    <tr>\n",
       "      <th>184772</th>\n",
       "      <td>3.0</td>\n",
       "    </tr>\n",
       "    <tr>\n",
       "      <th>179406</th>\n",
       "      <td>4.0</td>\n",
       "    </tr>\n",
       "    <tr>\n",
       "      <th>179428</th>\n",
       "      <td>4.0</td>\n",
       "    </tr>\n",
       "    <tr>\n",
       "      <th>179426</th>\n",
       "      <td>4.0</td>\n",
       "    </tr>\n",
       "    <tr>\n",
       "      <th>185949</th>\n",
       "      <td>3.0</td>\n",
       "    </tr>\n",
       "    <tr>\n",
       "      <th>179157</th>\n",
       "      <td>4.0</td>\n",
       "    </tr>\n",
       "    <tr>\n",
       "      <th>184991</th>\n",
       "      <td>3.0</td>\n",
       "    </tr>\n",
       "    <tr>\n",
       "      <th>178711</th>\n",
       "      <td>4.0</td>\n",
       "    </tr>\n",
       "    <tr>\n",
       "      <th>...</th>\n",
       "      <td>...</td>\n",
       "    </tr>\n",
       "    <tr>\n",
       "      <th>225258</th>\n",
       "      <td>4.5</td>\n",
       "    </tr>\n",
       "    <tr>\n",
       "      <th>236716</th>\n",
       "      <td>3.5</td>\n",
       "    </tr>\n",
       "    <tr>\n",
       "      <th>226647</th>\n",
       "      <td>4.5</td>\n",
       "    </tr>\n",
       "    <tr>\n",
       "      <th>223344</th>\n",
       "      <td>4.5</td>\n",
       "    </tr>\n",
       "    <tr>\n",
       "      <th>228275</th>\n",
       "      <td>4.5</td>\n",
       "    </tr>\n",
       "    <tr>\n",
       "      <th>223892</th>\n",
       "      <td>4.5</td>\n",
       "    </tr>\n",
       "    <tr>\n",
       "      <th>217098</th>\n",
       "      <td>5.5</td>\n",
       "    </tr>\n",
       "    <tr>\n",
       "      <th>214293</th>\n",
       "      <td>5.5</td>\n",
       "    </tr>\n",
       "    <tr>\n",
       "      <th>246663</th>\n",
       "      <td>3.0</td>\n",
       "    </tr>\n",
       "    <tr>\n",
       "      <th>237482</th>\n",
       "      <td>3.5</td>\n",
       "    </tr>\n",
       "    <tr>\n",
       "      <th>213287</th>\n",
       "      <td>5.5</td>\n",
       "    </tr>\n",
       "    <tr>\n",
       "      <th>245511</th>\n",
       "      <td>3.0</td>\n",
       "    </tr>\n",
       "    <tr>\n",
       "      <th>227359</th>\n",
       "      <td>4.5</td>\n",
       "    </tr>\n",
       "    <tr>\n",
       "      <th>250703</th>\n",
       "      <td>3.0</td>\n",
       "    </tr>\n",
       "    <tr>\n",
       "      <th>224297</th>\n",
       "      <td>3.5</td>\n",
       "    </tr>\n",
       "    <tr>\n",
       "      <th>245512</th>\n",
       "      <td>3.0</td>\n",
       "    </tr>\n",
       "    <tr>\n",
       "      <th>247855</th>\n",
       "      <td>3.0</td>\n",
       "    </tr>\n",
       "    <tr>\n",
       "      <th>204324</th>\n",
       "      <td>5.5</td>\n",
       "    </tr>\n",
       "    <tr>\n",
       "      <th>245782</th>\n",
       "      <td>3.0</td>\n",
       "    </tr>\n",
       "    <tr>\n",
       "      <th>238150</th>\n",
       "      <td>3.5</td>\n",
       "    </tr>\n",
       "    <tr>\n",
       "      <th>247233</th>\n",
       "      <td>3.0</td>\n",
       "    </tr>\n",
       "    <tr>\n",
       "      <th>225452</th>\n",
       "      <td>5.0</td>\n",
       "    </tr>\n",
       "    <tr>\n",
       "      <th>225691</th>\n",
       "      <td>3.5</td>\n",
       "    </tr>\n",
       "    <tr>\n",
       "      <th>250362</th>\n",
       "      <td>3.0</td>\n",
       "    </tr>\n",
       "    <tr>\n",
       "      <th>247680</th>\n",
       "      <td>3.0</td>\n",
       "    </tr>\n",
       "    <tr>\n",
       "      <th>246532</th>\n",
       "      <td>3.0</td>\n",
       "    </tr>\n",
       "    <tr>\n",
       "      <th>247891</th>\n",
       "      <td>3.0</td>\n",
       "    </tr>\n",
       "    <tr>\n",
       "      <th>212826</th>\n",
       "      <td>5.5</td>\n",
       "    </tr>\n",
       "    <tr>\n",
       "      <th>237151</th>\n",
       "      <td>3.5</td>\n",
       "    </tr>\n",
       "    <tr>\n",
       "      <th>226652</th>\n",
       "      <td>4.5</td>\n",
       "    </tr>\n",
       "  </tbody>\n",
       "</table>\n",
       "<p>368 rows × 1 columns</p>\n",
       "</div>"
      ],
      "text/plain": [
       "0          Count\n",
       "No Sciper       \n",
       "169569       3.0\n",
       "179449       3.0\n",
       "178553       3.0\n",
       "178271       3.0\n",
       "180731       3.0\n",
       "171619       3.0\n",
       "178656       3.0\n",
       "181121       3.0\n",
       "180570       3.0\n",
       "181248       3.0\n",
       "178433       3.0\n",
       "181298       3.0\n",
       "181115       3.0\n",
       "180094       3.0\n",
       "181017       3.0\n",
       "179194       3.0\n",
       "180959       3.0\n",
       "171195       3.0\n",
       "178948       3.0\n",
       "180241       3.0\n",
       "180854       3.0\n",
       "178682       3.0\n",
       "184772       3.0\n",
       "179406       4.0\n",
       "179428       4.0\n",
       "179426       4.0\n",
       "185949       3.0\n",
       "179157       4.0\n",
       "184991       3.0\n",
       "178711       4.0\n",
       "...          ...\n",
       "225258       4.5\n",
       "236716       3.5\n",
       "226647       4.5\n",
       "223344       4.5\n",
       "228275       4.5\n",
       "223892       4.5\n",
       "217098       5.5\n",
       "214293       5.5\n",
       "246663       3.0\n",
       "237482       3.5\n",
       "213287       5.5\n",
       "245511       3.0\n",
       "227359       4.5\n",
       "250703       3.0\n",
       "224297       3.5\n",
       "245512       3.0\n",
       "247855       3.0\n",
       "204324       5.5\n",
       "245782       3.0\n",
       "238150       3.5\n",
       "247233       3.0\n",
       "225452       5.0\n",
       "225691       3.5\n",
       "250362       3.0\n",
       "247680       3.0\n",
       "246532       3.0\n",
       "247891       3.0\n",
       "212826       5.5\n",
       "237151       3.5\n",
       "226652       4.5\n",
       "\n",
       "[368 rows x 1 columns]"
      ]
     },
     "execution_count": 314,
     "metadata": {},
     "output_type": "execute_result"
    }
   ],
   "source": [
    "diffence_in_average_gender = (gender_group.mean().loc['Monsieur'] - gender_group.mean().loc['Madame']).values[0]\n",
    "final_bachelor.loc[final_bachelor['Civilité'] == 'Monsieur'][['Count']]\n",
    "final_bachelor.loc[final_bachelor['Civilité'] == 'Madame'][['Count']]\n"
   ]
  },
  {
   "cell_type": "markdown",
   "metadata": {
    "collapsed": false
   },
   "source": [
    "## Question 2"
   ]
  },
  {
   "cell_type": "code",
   "execution_count": 319,
   "metadata": {
    "collapsed": false
   },
   "outputs": [
    {
     "name": "stdout",
     "output_type": "stream",
     "text": [
      "http://isa.epfl.ch/imoniteur_ISAP/!GEDPUBLICREPORTS.html?ww_x_GPS=-1&ww_i_reportModel=133685247&ww_i_reportModelXsl=133685270&ww_x_UNITE_ACAD=249847&ww_x_PERIODE_ACAD=978181&ww_x_PERIODE_PEDAGO=2230106\n",
      "http://isa.epfl.ch/imoniteur_ISAP/!GEDPUBLICREPORTS.html?ww_x_GPS=-1&ww_i_reportModel=133685247&ww_i_reportModelXsl=133685270&ww_x_UNITE_ACAD=249847&ww_x_PERIODE_ACAD=978181&ww_x_PERIODE_PEDAGO=942192\n",
      "http://isa.epfl.ch/imoniteur_ISAP/!GEDPUBLICREPORTS.html?ww_x_GPS=-1&ww_i_reportModel=133685247&ww_i_reportModelXsl=133685270&ww_x_UNITE_ACAD=249847&ww_x_PERIODE_ACAD=978181&ww_x_PERIODE_PEDAGO=2230128\n",
      "http://isa.epfl.ch/imoniteur_ISAP/!GEDPUBLICREPORTS.html?ww_x_GPS=-1&ww_i_reportModel=133685247&ww_i_reportModelXsl=133685270&ww_x_UNITE_ACAD=249847&ww_x_PERIODE_ACAD=978181&ww_x_PERIODE_PEDAGO=249127\n",
      "http://isa.epfl.ch/imoniteur_ISAP/!GEDPUBLICREPORTS.html?ww_x_GPS=-1&ww_i_reportModel=133685247&ww_i_reportModelXsl=133685270&ww_x_UNITE_ACAD=249847&ww_x_PERIODE_ACAD=978181&ww_x_PERIODE_PEDAGO=3781783\n"
     ]
    }
   ],
   "source": []
  },
  {
   "cell_type": "code",
   "execution_count": 378,
   "metadata": {
    "collapsed": false
   },
   "outputs": [],
   "source": [
    "def prepare_dataframe_master(url,i,j):\n",
    "    df = pd.read_html(requests.get(url).text)[0]\n",
    "    if '(0 ét.)' in df.loc[0]:\n",
    "        return df\n",
    "    else:\n",
    "        df = df.drop([1,2,3,5,7,8,9,11],axis=1)\n",
    "        df.columns = df.loc[1]\n",
    "        df.columns.name = 0\n",
    "        df = df.drop([0,1],axis=0) \n",
    "        df[i] = float(j[0:4])\n",
    "        return df"
   ]
  },
  {
   "cell_type": "code",
   "execution_count": null,
   "metadata": {
    "collapsed": false
   },
   "outputs": [],
   "source": []
  },
  {
   "cell_type": "code",
   "execution_count": 382,
   "metadata": {
    "collapsed": false
   },
   "outputs": [
    {
     "ename": "KeyError",
     "evalue": "'the label [0] is not in the [index]'",
     "output_type": "error",
     "traceback": [
      "\u001b[0;31m---------------------------------------------------------------------------\u001b[0m",
      "\u001b[0;31mKeyError\u001b[0m                                  Traceback (most recent call last)",
      "\u001b[0;32m/Users/zaimwadghiri/anaconda/lib/python3.5/site-packages/pandas/core/indexing.py\u001b[0m in \u001b[0;36m_has_valid_type\u001b[0;34m(self, key, axis)\u001b[0m\n\u001b[1;32m   1394\u001b[0m                 \u001b[0;32mif\u001b[0m \u001b[0mkey\u001b[0m \u001b[0;32mnot\u001b[0m \u001b[0;32min\u001b[0m \u001b[0max\u001b[0m\u001b[0;34m:\u001b[0m\u001b[0;34m\u001b[0m\u001b[0m\n\u001b[0;32m-> 1395\u001b[0;31m                     \u001b[0merror\u001b[0m\u001b[0;34m(\u001b[0m\u001b[0;34m)\u001b[0m\u001b[0;34m\u001b[0m\u001b[0m\n\u001b[0m\u001b[1;32m   1396\u001b[0m             \u001b[0;32mexcept\u001b[0m \u001b[0mTypeError\u001b[0m \u001b[0;32mas\u001b[0m \u001b[0me\u001b[0m\u001b[0;34m:\u001b[0m\u001b[0;34m\u001b[0m\u001b[0m\n",
      "\u001b[0;32m/Users/zaimwadghiri/anaconda/lib/python3.5/site-packages/pandas/core/indexing.py\u001b[0m in \u001b[0;36merror\u001b[0;34m()\u001b[0m\n\u001b[1;32m   1389\u001b[0m                 raise KeyError(\"the label [%s] is not in the [%s]\" %\n\u001b[0;32m-> 1390\u001b[0;31m                                (key, self.obj._get_axis_name(axis)))\n\u001b[0m\u001b[1;32m   1391\u001b[0m \u001b[0;34m\u001b[0m\u001b[0m\n",
      "\u001b[0;31mKeyError\u001b[0m: 'the label [0] is not in the [index]'",
      "\nDuring handling of the above exception, another exception occurred:\n",
      "\u001b[0;31mKeyError\u001b[0m                                  Traceback (most recent call last)",
      "\u001b[0;32m<ipython-input-382-18b12243540f>\u001b[0m in \u001b[0;36m<module>\u001b[0;34m()\u001b[0m\n\u001b[1;32m     12\u001b[0m         \u001b[0;31m#dfs.append(pd.read_html(requests.get(url).text)[0])\u001b[0m\u001b[0;34m\u001b[0m\u001b[0;34m\u001b[0m\u001b[0m\n\u001b[1;32m     13\u001b[0m         \u001b[0mdf2\u001b[0m \u001b[0;34m=\u001b[0m \u001b[0mprepare_dataframe_master\u001b[0m\u001b[0;34m(\u001b[0m\u001b[0murl\u001b[0m\u001b[0;34m,\u001b[0m\u001b[0mi\u001b[0m\u001b[0;34m[\u001b[0m\u001b[0;36m1\u001b[0m\u001b[0;34m]\u001b[0m\u001b[0;34m,\u001b[0m\u001b[0mj\u001b[0m\u001b[0;34m[\u001b[0m\u001b[0;36m1\u001b[0m\u001b[0;34m]\u001b[0m\u001b[0;34m)\u001b[0m\u001b[0;34m\u001b[0m\u001b[0m\n\u001b[0;32m---> 14\u001b[0;31m         \u001b[0;32mif\u001b[0m \u001b[0;34m'(0 ét.)'\u001b[0m \u001b[0;32min\u001b[0m \u001b[0mdf2\u001b[0m\u001b[0;34m.\u001b[0m\u001b[0mloc\u001b[0m\u001b[0;34m[\u001b[0m\u001b[0;36m0\u001b[0m\u001b[0;34m]\u001b[0m\u001b[0;34m:\u001b[0m\u001b[0;34m\u001b[0m\u001b[0m\n\u001b[0m\u001b[1;32m     15\u001b[0m             \u001b[0mprint\u001b[0m\u001b[0;34m(\u001b[0m\u001b[0mdf2\u001b[0m\u001b[0;34m)\u001b[0m\u001b[0;34m\u001b[0m\u001b[0m\n\u001b[1;32m     16\u001b[0m         \u001b[0mprint\u001b[0m\u001b[0;34m(\u001b[0m\u001b[0mk\u001b[0m\u001b[0;34m)\u001b[0m\u001b[0;34m\u001b[0m\u001b[0m\n",
      "\u001b[0;32m/Users/zaimwadghiri/anaconda/lib/python3.5/site-packages/pandas/core/indexing.py\u001b[0m in \u001b[0;36m__getitem__\u001b[0;34m(self, key)\u001b[0m\n\u001b[1;32m   1294\u001b[0m             \u001b[0;32mreturn\u001b[0m \u001b[0mself\u001b[0m\u001b[0;34m.\u001b[0m\u001b[0m_getitem_tuple\u001b[0m\u001b[0;34m(\u001b[0m\u001b[0mkey\u001b[0m\u001b[0;34m)\u001b[0m\u001b[0;34m\u001b[0m\u001b[0m\n\u001b[1;32m   1295\u001b[0m         \u001b[0;32melse\u001b[0m\u001b[0;34m:\u001b[0m\u001b[0;34m\u001b[0m\u001b[0m\n\u001b[0;32m-> 1296\u001b[0;31m             \u001b[0;32mreturn\u001b[0m \u001b[0mself\u001b[0m\u001b[0;34m.\u001b[0m\u001b[0m_getitem_axis\u001b[0m\u001b[0;34m(\u001b[0m\u001b[0mkey\u001b[0m\u001b[0;34m,\u001b[0m \u001b[0maxis\u001b[0m\u001b[0;34m=\u001b[0m\u001b[0;36m0\u001b[0m\u001b[0;34m)\u001b[0m\u001b[0;34m\u001b[0m\u001b[0m\n\u001b[0m\u001b[1;32m   1297\u001b[0m \u001b[0;34m\u001b[0m\u001b[0m\n\u001b[1;32m   1298\u001b[0m     \u001b[0;32mdef\u001b[0m \u001b[0m_getitem_axis\u001b[0m\u001b[0;34m(\u001b[0m\u001b[0mself\u001b[0m\u001b[0;34m,\u001b[0m \u001b[0mkey\u001b[0m\u001b[0;34m,\u001b[0m \u001b[0maxis\u001b[0m\u001b[0;34m=\u001b[0m\u001b[0;36m0\u001b[0m\u001b[0;34m)\u001b[0m\u001b[0;34m:\u001b[0m\u001b[0;34m\u001b[0m\u001b[0m\n",
      "\u001b[0;32m/Users/zaimwadghiri/anaconda/lib/python3.5/site-packages/pandas/core/indexing.py\u001b[0m in \u001b[0;36m_getitem_axis\u001b[0;34m(self, key, axis)\u001b[0m\n\u001b[1;32m   1464\u001b[0m \u001b[0;34m\u001b[0m\u001b[0m\n\u001b[1;32m   1465\u001b[0m         \u001b[0;31m# fall thru to straight lookup\u001b[0m\u001b[0;34m\u001b[0m\u001b[0;34m\u001b[0m\u001b[0m\n\u001b[0;32m-> 1466\u001b[0;31m         \u001b[0mself\u001b[0m\u001b[0;34m.\u001b[0m\u001b[0m_has_valid_type\u001b[0m\u001b[0;34m(\u001b[0m\u001b[0mkey\u001b[0m\u001b[0;34m,\u001b[0m \u001b[0maxis\u001b[0m\u001b[0;34m)\u001b[0m\u001b[0;34m\u001b[0m\u001b[0m\n\u001b[0m\u001b[1;32m   1467\u001b[0m         \u001b[0;32mreturn\u001b[0m \u001b[0mself\u001b[0m\u001b[0;34m.\u001b[0m\u001b[0m_get_label\u001b[0m\u001b[0;34m(\u001b[0m\u001b[0mkey\u001b[0m\u001b[0;34m,\u001b[0m \u001b[0maxis\u001b[0m\u001b[0;34m=\u001b[0m\u001b[0maxis\u001b[0m\u001b[0;34m)\u001b[0m\u001b[0;34m\u001b[0m\u001b[0m\n\u001b[1;32m   1468\u001b[0m \u001b[0;34m\u001b[0m\u001b[0m\n",
      "\u001b[0;32m/Users/zaimwadghiri/anaconda/lib/python3.5/site-packages/pandas/core/indexing.py\u001b[0m in \u001b[0;36m_has_valid_type\u001b[0;34m(self, key, axis)\u001b[0m\n\u001b[1;32m   1401\u001b[0m                 \u001b[0;32mraise\u001b[0m\u001b[0;34m\u001b[0m\u001b[0m\n\u001b[1;32m   1402\u001b[0m             \u001b[0;32mexcept\u001b[0m\u001b[0;34m:\u001b[0m\u001b[0;34m\u001b[0m\u001b[0m\n\u001b[0;32m-> 1403\u001b[0;31m                 \u001b[0merror\u001b[0m\u001b[0;34m(\u001b[0m\u001b[0;34m)\u001b[0m\u001b[0;34m\u001b[0m\u001b[0m\n\u001b[0m\u001b[1;32m   1404\u001b[0m \u001b[0;34m\u001b[0m\u001b[0m\n\u001b[1;32m   1405\u001b[0m         \u001b[0;32mreturn\u001b[0m \u001b[0;32mTrue\u001b[0m\u001b[0;34m\u001b[0m\u001b[0m\n",
      "\u001b[0;32m/Users/zaimwadghiri/anaconda/lib/python3.5/site-packages/pandas/core/indexing.py\u001b[0m in \u001b[0;36merror\u001b[0;34m()\u001b[0m\n\u001b[1;32m   1388\u001b[0m                                     \"key\")\n\u001b[1;32m   1389\u001b[0m                 raise KeyError(\"the label [%s] is not in the [%s]\" %\n\u001b[0;32m-> 1390\u001b[0;31m                                (key, self.obj._get_axis_name(axis)))\n\u001b[0m\u001b[1;32m   1391\u001b[0m \u001b[0;34m\u001b[0m\u001b[0m\n\u001b[1;32m   1392\u001b[0m             \u001b[0;32mtry\u001b[0m\u001b[0;34m:\u001b[0m\u001b[0;34m\u001b[0m\u001b[0m\n",
      "\u001b[0;31mKeyError\u001b[0m: 'the label [0] is not in the [index]'"
     ]
    }
   ],
   "source": [
    "\n",
    "\n",
    "dfs = []\n",
    "#for i in np.array(attributes[2][1])[range(6,11),:]:\n",
    "#    url = u + attributes[1][0] + '=' + str(attributes[1][1][0][0]) + '&' + attributes[2][0] + '=' + str(i[0])\n",
    "#    dfs.append(prepare_dataframe(url,i[1],attributes[1][1][0][1]))\n",
    "    \n",
    "k = 0    \n",
    "for i in np.array(attributes[2][1])[range(6,11),:]:\n",
    "    for j in attributes[1][1]:\n",
    "        url = u + attributes[1][0] + '=' + str(j[0]) + '&' + attributes[2][0] + '=' + str(i[0])\n",
    "        #dfs.append(pd.read_html(requests.get(url).text)[0])\n",
    "        df2 = prepare_dataframe_master(url,i[1],j[1])\n",
    "        if '(0 ét.)' in df2.loc[0]:\n",
    "            print(df2)\n",
    "        print(k)\n",
    "        k = k+1\n",
    "        #order = select_right_order(i[1])\n",
    "        #dfs[k] = concatenate_dataframes_right(dfs[k],df2,order)\n",
    "    #dfs[k].index = dfs[k]['No Sciper']\n",
    "    #dfs[k] = dfs[k].drop(['No Sciper'],axis=1)\n",
    "    #k = k + 1"
   ]
  },
  {
   "cell_type": "code",
   "execution_count": 380,
   "metadata": {
    "collapsed": false
   },
   "outputs": [
    {
     "ename": "IndexError",
     "evalue": "list index out of range",
     "output_type": "error",
     "traceback": [
      "\u001b[0;31m---------------------------------------------------------------------------\u001b[0m",
      "\u001b[0;31mIndexError\u001b[0m                                Traceback (most recent call last)",
      "\u001b[0;32m<ipython-input-380-4e8e8b1fdfbf>\u001b[0m in \u001b[0;36m<module>\u001b[0;34m()\u001b[0m\n\u001b[0;32m----> 1\u001b[0;31m \u001b[0mdfs\u001b[0m\u001b[0;34m[\u001b[0m\u001b[0;36m0\u001b[0m\u001b[0;34m]\u001b[0m\u001b[0;34m\u001b[0m\u001b[0m\n\u001b[0m",
      "\u001b[0;31mIndexError\u001b[0m: list index out of range"
     ]
    }
   ],
   "source": [
    "dfs[0]"
   ]
  },
  {
   "cell_type": "code",
   "execution_count": null,
   "metadata": {
    "collapsed": true
   },
   "outputs": [],
   "source": [
    "payload_tails_a = {}\n",
    "payload_tails_p = {}\n",
    "\n",
    "sem_a = soup.find('option', text = \"Semestre d'automne\")\n",
    "payload_tails_a[sem_a.parent['name']] = sem_a['value']\n",
    "\n",
    "sem_p = soup.find('option', text = \"Semestre de printemps\")\n",
    "payload_tails_p[sem_p.parent['name']] = sem_p['value']"
   ]
  }
 ],
 "metadata": {
  "anaconda-cloud": {},
  "kernelspec": {
   "display_name": "Python [Root]",
   "language": "python",
   "name": "Python [Root]"
  },
  "language_info": {
   "codemirror_mode": {
    "name": "ipython",
    "version": 3
   },
   "file_extension": ".py",
   "mimetype": "text/x-python",
   "name": "python",
   "nbconvert_exporter": "python",
   "pygments_lexer": "ipython3",
   "version": "3.5.2"
  }
 },
 "nbformat": 4,
 "nbformat_minor": 0
}
