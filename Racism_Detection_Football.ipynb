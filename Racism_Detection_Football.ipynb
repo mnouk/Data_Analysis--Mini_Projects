{
 "cells": [
  {
   "cell_type": "code",
   "execution_count": 590,
   "metadata": {
    "collapsed": false
   },
   "outputs": [],
   "source": [
    "%matplotlib inline\n",
    "import pandas as pd\n",
    "import numpy as np\n",
    "import matplotlib.pyplot as plt\n",
    "from sklearn.ensemble import RandomForestClassifier as rfc\n",
    "from sklearn.linear_model import LinearRegression\n",
    "from sklearn.preprocessing import LabelEncoder\n",
    "from sklearn.model_selection import train_test_split\n",
    "from sklearn.metrics import silhouette_score\n",
    "from sklearn.cluster import KMeans\n"
   ]
  },
  {
   "cell_type": "code",
   "execution_count": 434,
   "metadata": {
    "collapsed": true
   },
   "outputs": [],
   "source": [
    "#Function we will need for both questions\n",
    "\n",
    "def encode(x):\n",
    "    enc = LabelEncoder()\n",
    "    enc.fit(x)\n",
    "    return enc.transform(x)\n",
    "\n",
    "def group_sum(set_to_sum,df):\n",
    "    for i in set_to_sum:\n",
    "        df[[i]] = df.groupby('playerShort')[i].aggregate(lambda x: x.sum())\n",
    "    return df \n",
    "        \n",
    "def group_average(set_to_average,df):\n",
    "    for i in set_to_average:\n",
    "        df[[i]] = df.groupby('playerShort')[i].aggregate(lambda x: x.mean())\n",
    "    return df \n",
    "\n"
   ]
  },
  {
   "cell_type": "code",
   "execution_count": 435,
   "metadata": {
    "collapsed": false
   },
   "outputs": [
    {
     "data": {
      "text/html": [
       "<div>\n",
       "<table border=\"1\" class=\"dataframe\">\n",
       "  <thead>\n",
       "    <tr style=\"text-align: right;\">\n",
       "      <th></th>\n",
       "      <th>playerShort</th>\n",
       "      <th>player</th>\n",
       "      <th>club</th>\n",
       "      <th>leagueCountry</th>\n",
       "      <th>birthday</th>\n",
       "      <th>height</th>\n",
       "      <th>weight</th>\n",
       "      <th>position</th>\n",
       "      <th>games</th>\n",
       "      <th>victories</th>\n",
       "      <th>...</th>\n",
       "      <th>rater2</th>\n",
       "      <th>refNum</th>\n",
       "      <th>refCountry</th>\n",
       "      <th>Alpha_3</th>\n",
       "      <th>meanIAT</th>\n",
       "      <th>nIAT</th>\n",
       "      <th>seIAT</th>\n",
       "      <th>meanExp</th>\n",
       "      <th>nExp</th>\n",
       "      <th>seExp</th>\n",
       "    </tr>\n",
       "  </thead>\n",
       "  <tbody>\n",
       "    <tr>\n",
       "      <th>0</th>\n",
       "      <td>lucas-wilchez</td>\n",
       "      <td>Lucas Wilchez</td>\n",
       "      <td>Real Zaragoza</td>\n",
       "      <td>Spain</td>\n",
       "      <td>31.08.1983</td>\n",
       "      <td>177.0</td>\n",
       "      <td>72.0</td>\n",
       "      <td>Attacking Midfielder</td>\n",
       "      <td>1</td>\n",
       "      <td>0</td>\n",
       "      <td>...</td>\n",
       "      <td>0.50</td>\n",
       "      <td>1</td>\n",
       "      <td>1</td>\n",
       "      <td>GRC</td>\n",
       "      <td>0.326391</td>\n",
       "      <td>712.0</td>\n",
       "      <td>0.000564</td>\n",
       "      <td>0.396000</td>\n",
       "      <td>750.0</td>\n",
       "      <td>0.002696</td>\n",
       "    </tr>\n",
       "    <tr>\n",
       "      <th>1</th>\n",
       "      <td>john-utaka</td>\n",
       "      <td>John Utaka</td>\n",
       "      <td>Montpellier HSC</td>\n",
       "      <td>France</td>\n",
       "      <td>08.01.1982</td>\n",
       "      <td>179.0</td>\n",
       "      <td>82.0</td>\n",
       "      <td>Right Winger</td>\n",
       "      <td>1</td>\n",
       "      <td>0</td>\n",
       "      <td>...</td>\n",
       "      <td>0.75</td>\n",
       "      <td>2</td>\n",
       "      <td>2</td>\n",
       "      <td>ZMB</td>\n",
       "      <td>0.203375</td>\n",
       "      <td>40.0</td>\n",
       "      <td>0.010875</td>\n",
       "      <td>-0.204082</td>\n",
       "      <td>49.0</td>\n",
       "      <td>0.061504</td>\n",
       "    </tr>\n",
       "    <tr>\n",
       "      <th>2</th>\n",
       "      <td>abdon-prats</td>\n",
       "      <td>Abdón Prats</td>\n",
       "      <td>RCD Mallorca</td>\n",
       "      <td>Spain</td>\n",
       "      <td>17.12.1992</td>\n",
       "      <td>181.0</td>\n",
       "      <td>79.0</td>\n",
       "      <td>NaN</td>\n",
       "      <td>1</td>\n",
       "      <td>0</td>\n",
       "      <td>...</td>\n",
       "      <td>NaN</td>\n",
       "      <td>3</td>\n",
       "      <td>3</td>\n",
       "      <td>ESP</td>\n",
       "      <td>0.369894</td>\n",
       "      <td>1785.0</td>\n",
       "      <td>0.000229</td>\n",
       "      <td>0.588297</td>\n",
       "      <td>1897.0</td>\n",
       "      <td>0.001002</td>\n",
       "    </tr>\n",
       "    <tr>\n",
       "      <th>3</th>\n",
       "      <td>pablo-mari</td>\n",
       "      <td>Pablo Marí</td>\n",
       "      <td>RCD Mallorca</td>\n",
       "      <td>Spain</td>\n",
       "      <td>31.08.1993</td>\n",
       "      <td>191.0</td>\n",
       "      <td>87.0</td>\n",
       "      <td>Center Back</td>\n",
       "      <td>1</td>\n",
       "      <td>1</td>\n",
       "      <td>...</td>\n",
       "      <td>NaN</td>\n",
       "      <td>3</td>\n",
       "      <td>3</td>\n",
       "      <td>ESP</td>\n",
       "      <td>0.369894</td>\n",
       "      <td>1785.0</td>\n",
       "      <td>0.000229</td>\n",
       "      <td>0.588297</td>\n",
       "      <td>1897.0</td>\n",
       "      <td>0.001002</td>\n",
       "    </tr>\n",
       "    <tr>\n",
       "      <th>4</th>\n",
       "      <td>ruben-pena</td>\n",
       "      <td>Rubén Peña</td>\n",
       "      <td>Real Valladolid</td>\n",
       "      <td>Spain</td>\n",
       "      <td>18.07.1991</td>\n",
       "      <td>172.0</td>\n",
       "      <td>70.0</td>\n",
       "      <td>Right Midfielder</td>\n",
       "      <td>1</td>\n",
       "      <td>1</td>\n",
       "      <td>...</td>\n",
       "      <td>NaN</td>\n",
       "      <td>3</td>\n",
       "      <td>3</td>\n",
       "      <td>ESP</td>\n",
       "      <td>0.369894</td>\n",
       "      <td>1785.0</td>\n",
       "      <td>0.000229</td>\n",
       "      <td>0.588297</td>\n",
       "      <td>1897.0</td>\n",
       "      <td>0.001002</td>\n",
       "    </tr>\n",
       "  </tbody>\n",
       "</table>\n",
       "<p>5 rows × 28 columns</p>\n",
       "</div>"
      ],
      "text/plain": [
       "     playerShort         player             club leagueCountry    birthday  \\\n",
       "0  lucas-wilchez  Lucas Wilchez    Real Zaragoza         Spain  31.08.1983   \n",
       "1     john-utaka     John Utaka  Montpellier HSC        France  08.01.1982   \n",
       "2    abdon-prats    Abdón Prats     RCD Mallorca         Spain  17.12.1992   \n",
       "3     pablo-mari     Pablo Marí     RCD Mallorca         Spain  31.08.1993   \n",
       "4     ruben-pena     Rubén Peña  Real Valladolid         Spain  18.07.1991   \n",
       "\n",
       "   height  weight              position  games  victories    ...     rater2  \\\n",
       "0   177.0    72.0  Attacking Midfielder      1          0    ...       0.50   \n",
       "1   179.0    82.0          Right Winger      1          0    ...       0.75   \n",
       "2   181.0    79.0                   NaN      1          0    ...        NaN   \n",
       "3   191.0    87.0           Center Back      1          1    ...        NaN   \n",
       "4   172.0    70.0      Right Midfielder      1          1    ...        NaN   \n",
       "\n",
       "   refNum  refCountry  Alpha_3   meanIAT    nIAT     seIAT   meanExp    nExp  \\\n",
       "0       1           1      GRC  0.326391   712.0  0.000564  0.396000   750.0   \n",
       "1       2           2      ZMB  0.203375    40.0  0.010875 -0.204082    49.0   \n",
       "2       3           3      ESP  0.369894  1785.0  0.000229  0.588297  1897.0   \n",
       "3       3           3      ESP  0.369894  1785.0  0.000229  0.588297  1897.0   \n",
       "4       3           3      ESP  0.369894  1785.0  0.000229  0.588297  1897.0   \n",
       "\n",
       "      seExp  \n",
       "0  0.002696  \n",
       "1  0.061504  \n",
       "2  0.001002  \n",
       "3  0.001002  \n",
       "4  0.001002  \n",
       "\n",
       "[5 rows x 28 columns]"
      ]
     },
     "execution_count": 435,
     "metadata": {},
     "output_type": "execute_result"
    }
   ],
   "source": [
    "#Read the dataset\n",
    "\n",
    "df = pd.read_csv('hw4ada/04 - Applied ML/CrowdstormingDataJuly1st.csv')\n",
    "df.head()"
   ]
  },
  {
   "cell_type": "code",
   "execution_count": 436,
   "metadata": {
    "collapsed": false
   },
   "outputs": [
    {
     "data": {
      "text/html": [
       "<div>\n",
       "<table border=\"1\" class=\"dataframe\">\n",
       "  <thead>\n",
       "    <tr style=\"text-align: right;\">\n",
       "      <th></th>\n",
       "      <th>playerShort</th>\n",
       "      <th>club</th>\n",
       "      <th>birthday</th>\n",
       "    </tr>\n",
       "  </thead>\n",
       "  <tbody>\n",
       "    <tr>\n",
       "      <th>0</th>\n",
       "      <td>lucas-wilchez</td>\n",
       "      <td>Real Zaragoza</td>\n",
       "      <td>31.08.1983</td>\n",
       "    </tr>\n",
       "    <tr>\n",
       "      <th>1</th>\n",
       "      <td>john-utaka</td>\n",
       "      <td>Montpellier HSC</td>\n",
       "      <td>08.01.1982</td>\n",
       "    </tr>\n",
       "    <tr>\n",
       "      <th>2</th>\n",
       "      <td>abdon-prats</td>\n",
       "      <td>RCD Mallorca</td>\n",
       "      <td>17.12.1992</td>\n",
       "    </tr>\n",
       "    <tr>\n",
       "      <th>3</th>\n",
       "      <td>pablo-mari</td>\n",
       "      <td>RCD Mallorca</td>\n",
       "      <td>31.08.1993</td>\n",
       "    </tr>\n",
       "    <tr>\n",
       "      <th>4</th>\n",
       "      <td>ruben-pena</td>\n",
       "      <td>Real Valladolid</td>\n",
       "      <td>18.07.1991</td>\n",
       "    </tr>\n",
       "  </tbody>\n",
       "</table>\n",
       "</div>"
      ],
      "text/plain": [
       "     playerShort             club    birthday\n",
       "0  lucas-wilchez    Real Zaragoza  31.08.1983\n",
       "1     john-utaka  Montpellier HSC  08.01.1982\n",
       "2    abdon-prats     RCD Mallorca  17.12.1992\n",
       "3     pablo-mari     RCD Mallorca  31.08.1993\n",
       "4     ruben-pena  Real Valladolid  18.07.1991"
      ]
     },
     "execution_count": 436,
     "metadata": {},
     "output_type": "execute_result"
    }
   ],
   "source": [
    "#Here we want to check if there is different players with the same playerShort.\n",
    "#To compare players, we are considering the club, and birthday of each player since 2 players\n",
    "#cannot have the same club and playerShort\n",
    "\n",
    "df_playerShort = df[['playerShort','club','birthday']]\n",
    "df_playerShort.head()"
   ]
  },
  {
   "cell_type": "code",
   "execution_count": 437,
   "metadata": {
    "collapsed": false
   },
   "outputs": [
    {
     "name": "stderr",
     "output_type": "stream",
     "text": [
      "/Users/zaimwadghiri/anaconda/lib/python3.5/site-packages/ipykernel/__main__.py:6: FutureWarning: sort(....) is deprecated, use sort_index(.....)\n"
     ]
    },
    {
     "data": {
      "text/plain": [
       "0                 lucas-wilchez\n",
       "1                    john-utaka\n",
       "2                   abdon-prats\n",
       "3                    pablo-mari\n",
       "4                    ruben-pena\n",
       "5                  aaron-hughes\n",
       "6            aleksandar-kolarov\n",
       "7              alexander-tettey\n",
       "8             anders-lindegaard\n",
       "9                  andreas-beck\n",
       "10             antonio-rukavina\n",
       "11               ashkan-dejagah\n",
       "12            benedikt-hoewedes\n",
       "13                  chris-baird\n",
       "14                  chris-brunt\n",
       "15               daniel-schwaab\n",
       "16                  dennis-aogo\n",
       "17             george-mccartney\n",
       "18             gylfi-sigurdsson\n",
       "19               ivan-obradovic\n",
       "20                  jan-moravek\n",
       "21                jan-rosenthal\n",
       "22                  jonny-evans\n",
       "23        kyriakos-papadopoulos\n",
       "24                  marko-marin\n",
       "25                 mats-hummels\n",
       "26                  mesut-oezil\n",
       "27              milorad-pekovic\n",
       "28                nemanja-vidic\n",
       "29                neven-subotic\n",
       "                  ...          \n",
       "22855             alex-portillo\n",
       "25061           jeremy-malherbe\n",
       "25083           mickael-charvet\n",
       "29456      albert-rafetraniaina\n",
       "29618             florent-andre\n",
       "30847            dylan-tombides\n",
       "30974           matthias-fanimo\n",
       "34869                james-shea\n",
       "35573            dominic-samuel\n",
       "38259              stephen-sama\n",
       "57426            zakarie-labidi\n",
       "64990          david-oberhauser\n",
       "66259              charlie-took\n",
       "69249              biel-company\n",
       "73729              jeremy-frick\n",
       "76521               senah-mango\n",
       "77348             cyril-hennion\n",
       "79753         fabrice-apruzesse\n",
       "87409           andy-robinson_2\n",
       "90390            wesley-jobello\n",
       "96344        kenechukwu-uchenwa\n",
       "100764          jerome-sinclair\n",
       "104132              corby-moore\n",
       "109064              jak-alnwick\n",
       "115479           momar-bangoura\n",
       "115570        thomas-vincensini\n",
       "120273        jonathan-santiago\n",
       "120280               kevin-osei\n",
       "123250           pape-coulibaly\n",
       "139150            baptiste-aloe\n",
       "Name: playerShort, dtype: object"
      ]
     },
     "execution_count": 437,
     "metadata": {},
     "output_type": "execute_result"
    }
   ],
   "source": [
    "#drop_duplicates will give us a dataframe with only one entry for each playerShort, club, height and weight.\n",
    "#Then we take only playerShort. If there is more than one entry for each playerShort, then there is\n",
    "#different players with the same playerShort.\n",
    "\n",
    "df_playerShort = df_playerShort.drop_duplicates(['playerShort','birthday','club'])\n",
    "ts = df_playerShort.sort()['playerShort']\n",
    "ts"
   ]
  },
  {
   "cell_type": "code",
   "execution_count": 438,
   "metadata": {
    "collapsed": false
   },
   "outputs": [
    {
     "data": {
      "text/plain": [
       "0"
      ]
     },
     "execution_count": 438,
     "metadata": {},
     "output_type": "execute_result"
    }
   ],
   "source": [
    "#We can see that all the players can be described by there playerShort since there is no different players with the\n",
    "#same playerShort\n",
    "\n",
    "np.sum(ts.value_counts() != 1)"
   ]
  },
  {
   "cell_type": "code",
   "execution_count": 439,
   "metadata": {
    "collapsed": false
   },
   "outputs": [
    {
     "data": {
      "text/html": [
       "<div>\n",
       "<table border=\"1\" class=\"dataframe\">\n",
       "  <thead>\n",
       "    <tr style=\"text-align: right;\">\n",
       "      <th></th>\n",
       "      <th>player</th>\n",
       "      <th>club</th>\n",
       "      <th>birthday</th>\n",
       "    </tr>\n",
       "  </thead>\n",
       "  <tbody>\n",
       "    <tr>\n",
       "      <th>2733</th>\n",
       "      <td>Juanfran</td>\n",
       "      <td>Levante UD</td>\n",
       "      <td>15.07.1976</td>\n",
       "    </tr>\n",
       "    <tr>\n",
       "      <th>2734</th>\n",
       "      <td>Juanfran</td>\n",
       "      <td>Atlético Madrid</td>\n",
       "      <td>09.01.1985</td>\n",
       "    </tr>\n",
       "    <tr>\n",
       "      <th>2735</th>\n",
       "      <td>Juanfran</td>\n",
       "      <td>Real Madrid</td>\n",
       "      <td>11.09.1988</td>\n",
       "    </tr>\n",
       "  </tbody>\n",
       "</table>\n",
       "</div>"
      ],
      "text/plain": [
       "         player             club    birthday\n",
       "2733   Juanfran       Levante UD  15.07.1976\n",
       "2734   Juanfran  Atlético Madrid  09.01.1985\n",
       "2735   Juanfran      Real Madrid  11.09.1988"
      ]
     },
     "execution_count": 439,
     "metadata": {},
     "output_type": "execute_result"
    }
   ],
   "source": [
    "#We consider playerShort because there is some players with the same name as we can see below with Juanfran\n",
    "\n",
    "df.loc[df.player == ' Juanfran',['player','club','birthday']].drop_duplicates()"
   ]
  },
  {
   "cell_type": "code",
   "execution_count": 440,
   "metadata": {
    "collapsed": false
   },
   "outputs": [
    {
     "data": {
      "text/plain": [
       "playerShort          0\n",
       "player               0\n",
       "club                 0\n",
       "leagueCountry        0\n",
       "birthday             0\n",
       "height             263\n",
       "weight            2243\n",
       "position         17726\n",
       "games                0\n",
       "victories            0\n",
       "ties                 0\n",
       "defeats              0\n",
       "goals                0\n",
       "yellowCards          0\n",
       "yellowReds           0\n",
       "redCards             0\n",
       "photoID          21407\n",
       "rater1           21407\n",
       "rater2           21407\n",
       "refNum               0\n",
       "refCountry           0\n",
       "Alpha_3              1\n",
       "meanIAT            163\n",
       "nIAT               163\n",
       "seIAT              163\n",
       "meanExp            163\n",
       "nExp               163\n",
       "seExp              163\n",
       "dtype: int64"
      ]
     },
     "execution_count": 440,
     "metadata": {},
     "output_type": "execute_result"
    }
   ],
   "source": [
    "#Now we see how many Nan there is per columns in the dataset\n",
    "\n",
    "np.sum(df.isnull())"
   ]
  },
  {
   "cell_type": "code",
   "execution_count": 441,
   "metadata": {
    "collapsed": true
   },
   "outputs": [],
   "source": [
    "#The ratings are mandatory for this study. Plus there is only 163 missing values and in the same line for \n",
    "#some columns\n",
    "\n",
    "df = df.dropna(subset = ['photoID','meanIAT','nIAT','seIAT','meanExp','nExp','seExp'])"
   ]
  },
  {
   "cell_type": "code",
   "execution_count": 442,
   "metadata": {
    "collapsed": false
   },
   "outputs": [],
   "source": [
    "#Here we drop Alpha_3 since the encoded version of it is in refCOuntry\n",
    "\n",
    "df = df.drop(['Alpha_3','photoID'],1)"
   ]
  },
  {
   "cell_type": "code",
   "execution_count": 486,
   "metadata": {
    "collapsed": false
   },
   "outputs": [
    {
     "data": {
      "text/plain": [
       "playerShort         0\n",
       "player              0\n",
       "club                0\n",
       "leagueCountry       0\n",
       "birthday            0\n",
       "height             46\n",
       "weight            753\n",
       "position         8454\n",
       "games               0\n",
       "victories           0\n",
       "ties                0\n",
       "defeats             0\n",
       "goals               0\n",
       "yellowCards         0\n",
       "yellowReds          0\n",
       "redCards            0\n",
       "rater1              0\n",
       "rater2              0\n",
       "refNum              0\n",
       "refCountry          0\n",
       "meanIAT             0\n",
       "nIAT                0\n",
       "seIAT               0\n",
       "meanExp             0\n",
       "nExp                0\n",
       "seExp               0\n",
       "dtype: int64"
      ]
     },
     "execution_count": 486,
     "metadata": {},
     "output_type": "execute_result"
    }
   ],
   "source": [
    "#We have thos characteristics for the NaN\n",
    "\n",
    "np.sum(df.isnull())"
   ]
  },
  {
   "cell_type": "markdown",
   "metadata": {},
   "source": [
    "# Question 1"
   ]
  },
  {
   "cell_type": "code",
   "execution_count": 517,
   "metadata": {
    "collapsed": false
   },
   "outputs": [
    {
     "data": {
      "text/plain": [
       "playerShort         0\n",
       "player              0\n",
       "club                0\n",
       "leagueCountry       0\n",
       "birthday            0\n",
       "height              0\n",
       "weight            707\n",
       "position         8453\n",
       "games               0\n",
       "victories           0\n",
       "ties                0\n",
       "defeats             0\n",
       "goals               0\n",
       "yellowCards         0\n",
       "yellowReds          0\n",
       "redCards            0\n",
       "rater1              0\n",
       "rater2              0\n",
       "refNum              0\n",
       "refCountry          0\n",
       "meanIAT             0\n",
       "nIAT                0\n",
       "seIAT               0\n",
       "meanExp             0\n",
       "nExp                0\n",
       "seExp               0\n",
       "dtype: int64"
      ]
     },
     "execution_count": 517,
     "metadata": {},
     "output_type": "execute_result"
    }
   ],
   "source": [
    "#Drop the rows where there is no height and weight (both have to be nan values) \n",
    "\n",
    "df_question1 = df.dropna(subset = ['height','weight'],how = 'all')\n",
    "np.sum(df_question1.isnull())"
   ]
  },
  {
   "cell_type": "code",
   "execution_count": 444,
   "metadata": {
    "collapsed": false
   },
   "outputs": [],
   "source": [
    "#To estimate the missing values of the weight, we will run a regression with respect to the height\n",
    "#Don't forget that there is duplicates since we are considering dyads and to create X, we have to consider\n",
    "#only one point so no duplicates\n",
    "#To create X, we will consider playerShort since if a player has the same playerShort, it is the same person.\n",
    "#The proof of this assumption is below\n",
    "\n",
    "\n",
    "X = df_question1.drop_duplicates(['playerShort']).dropna(subset = ['weight'])['height'].values\n",
    "X = np.c_[np.ones([X.shape[0],1]),X]\n",
    "y = df_question1.drop_duplicates(['playerShort']).dropna(subset = ['weight'])['weight'].values\n",
    "X_pred = df_question1['height'][df_question1['weight'].isnull()]\n",
    "X_pred = np.c_[np.ones([X_pred.shape[0],1]),X_pred]\n",
    "LR = LinearRegression()\n",
    "LR.fit(X,y)\n",
    "y_pred = LR.predict(X_pred)\n"
   ]
  },
  {
   "cell_type": "code",
   "execution_count": 518,
   "metadata": {
    "collapsed": false
   },
   "outputs": [
    {
     "name": "stderr",
     "output_type": "stream",
     "text": [
      "/Users/zaimwadghiri/anaconda/lib/python3.5/site-packages/ipykernel/__main__.py:1: SettingWithCopyWarning: \n",
      "A value is trying to be set on a copy of a slice from a DataFrame\n",
      "\n",
      "See the caveats in the documentation: http://pandas.pydata.org/pandas-docs/stable/indexing.html#indexing-view-versus-copy\n",
      "  if __name__ == '__main__':\n",
      "/Users/zaimwadghiri/anaconda/lib/python3.5/site-packages/pandas/core/generic.py:4485: SettingWithCopyWarning: \n",
      "A value is trying to be set on a copy of a slice from a DataFrame\n",
      "\n",
      "See the caveats in the documentation: http://pandas.pydata.org/pandas-docs/stable/indexing.html#indexing-view-versus-copy\n",
      "  self._update_inplace(new_data)\n",
      "/Users/zaimwadghiri/anaconda/lib/python3.5/site-packages/IPython/core/interactiveshell.py:2885: SettingWithCopyWarning: \n",
      "A value is trying to be set on a copy of a slice from a DataFrame\n",
      "\n",
      "See the caveats in the documentation: http://pandas.pydata.org/pandas-docs/stable/indexing.html#indexing-view-versus-copy\n",
      "  exec(code_obj, self.user_global_ns, self.user_ns)\n"
     ]
    },
    {
     "data": {
      "text/plain": [
       "playerShort         0\n",
       "player              0\n",
       "club                0\n",
       "leagueCountry       0\n",
       "birthday            0\n",
       "height              0\n",
       "weight              0\n",
       "position         8453\n",
       "games               0\n",
       "victories           0\n",
       "ties                0\n",
       "defeats             0\n",
       "goals               0\n",
       "yellowCards         0\n",
       "yellowReds          0\n",
       "redCards            0\n",
       "rater1              0\n",
       "rater2              0\n",
       "refNum              0\n",
       "refCountry          0\n",
       "meanIAT             0\n",
       "nIAT                0\n",
       "seIAT               0\n",
       "meanExp             0\n",
       "nExp                0\n",
       "seExp               0\n",
       "dtype: int64"
      ]
     },
     "execution_count": 518,
     "metadata": {},
     "output_type": "execute_result"
    }
   ],
   "source": [
    "df_question1['weight'][df_question1['weight'].isnull()] = y_pred\n",
    "np.sum(df_question1.isnull())"
   ]
  },
  {
   "cell_type": "code",
   "execution_count": 519,
   "metadata": {
    "collapsed": false
   },
   "outputs": [
    {
     "data": {
      "text/plain": [
       "playerShort      0\n",
       "player           0\n",
       "club             0\n",
       "leagueCountry    0\n",
       "birthday         0\n",
       "height           0\n",
       "weight           0\n",
       "position         0\n",
       "games            0\n",
       "victories        0\n",
       "ties             0\n",
       "defeats          0\n",
       "goals            0\n",
       "yellowCards      0\n",
       "yellowReds       0\n",
       "redCards         0\n",
       "rater1           0\n",
       "rater2           0\n",
       "refNum           0\n",
       "refCountry       0\n",
       "meanIAT          0\n",
       "nIAT             0\n",
       "seIAT            0\n",
       "meanExp          0\n",
       "nExp             0\n",
       "seExp            0\n",
       "dtype: int64"
      ]
     },
     "execution_count": 519,
     "metadata": {},
     "output_type": "execute_result"
    }
   ],
   "source": [
    "#Here we drop the other missing values which are in the position.\n",
    "#A possibility could see how many goals are scored by each position for the non NaN values and then replace \n",
    "#the position of a player with NaN in this column depending on the goals he scored.\n",
    "\n",
    "#For me it is a bad idea because in football we are not able to make the difference between \n",
    "#a midfielder in the back and the defenders. Also, there is no differences between\n",
    "#the offensive players even if they play as offensive midfielders or strikers.\n",
    "\n",
    "df_question1 = df_question1.dropna()\n",
    "np.sum(df_question1.isnull())"
   ]
  },
  {
   "cell_type": "code",
   "execution_count": 520,
   "metadata": {
    "collapsed": false
   },
   "outputs": [
    {
     "data": {
      "text/plain": [
       "True     88856\n",
       "False    27113\n",
       "dtype: int64"
      ]
     },
     "execution_count": 520,
     "metadata": {},
     "output_type": "execute_result"
    }
   ],
   "source": [
    "#We can see that the raters have different opinion about the skin color 20% of the time. Thus, there is 2 \n",
    "#possibilities. The first is to make the average but we will have 9 possible labels even if the initial\n",
    "#ratings had 5 possibles values. The second one is to delete the rows where the rates are different. We will\n",
    "#do this one to have the same initial labels if the distribution of the ratings is quit similar\n",
    "\n",
    "(df_question1['rater1'] == df_question1['rater2']).value_counts()"
   ]
  },
  {
   "cell_type": "code",
   "execution_count": 521,
   "metadata": {
    "collapsed": false
   },
   "outputs": [
    {
     "data": {
      "text/plain": [
       "0.00    40.376307\n",
       "0.25    34.835171\n",
       "0.50    10.846002\n",
       "0.75     7.451991\n",
       "1.00     6.490528\n",
       "Name: rater1, dtype: float64"
      ]
     },
     "execution_count": 521,
     "metadata": {},
     "output_type": "execute_result"
    }
   ],
   "source": [
    "#Percentage of values rater1\n",
    "\n",
    "values_ratio1 = 100*df_question1['rater1'].value_counts()/np.sum(df_question1['rater1'].value_counts())\n",
    "values_ratio1"
   ]
  },
  {
   "cell_type": "code",
   "execution_count": 527,
   "metadata": {
    "collapsed": false
   },
   "outputs": [
    {
     "data": {
      "text/plain": [
       "0.00    28.843915\n",
       "0.25    45.257784\n",
       "0.50    10.299304\n",
       "0.75     7.917633\n",
       "1.00     7.681363\n",
       "Name: rater2, dtype: float64"
      ]
     },
     "execution_count": 527,
     "metadata": {},
     "output_type": "execute_result"
    }
   ],
   "source": [
    "#Percentage of values rater2\n",
    "\n",
    "values_ratio2 = 100*df_question1['rater2'].value_counts()/np.sum(df_question1['rater2'].value_counts())\n",
    "values_ratio2.sort_index()"
   ]
  },
  {
   "cell_type": "code",
   "execution_count": 523,
   "metadata": {
    "collapsed": false
   },
   "outputs": [
    {
     "data": {
      "text/plain": [
       "0.00    34.610111\n",
       "0.25    40.046478\n",
       "0.50    10.572653\n",
       "0.75     7.684812\n",
       "1.00     7.085945\n",
       "dtype: float64"
      ]
     },
     "execution_count": 523,
     "metadata": {},
     "output_type": "execute_result"
    }
   ],
   "source": [
    "#Percentage of values  for both\n",
    "\n",
    "(values_ratio1 + values_ratio2)/2"
   ]
  },
  {
   "cell_type": "code",
   "execution_count": 526,
   "metadata": {
    "collapsed": false
   },
   "outputs": [
    {
     "data": {
      "text/plain": [
       "0.00    35.596921\n",
       "0.25    39.724948\n",
       "0.50     9.418610\n",
       "0.75     7.406365\n",
       "1.00     7.853156\n",
       "Name: rater1, dtype: float64"
      ]
     },
     "execution_count": 526,
     "metadata": {},
     "output_type": "execute_result"
    }
   ],
   "source": [
    "#Comparison if we take only the same ratings. It is similar thus it is a good option\n",
    "\n",
    "index = df_question1['rater1'] == df_question1['rater2']\n",
    "(100*df_question1[index]['rater1'].value_counts()/np.sum(df_question1[index]['rater1'].value_counts())).sort_index()"
   ]
  },
  {
   "cell_type": "code",
   "execution_count": 448,
   "metadata": {
    "collapsed": false
   },
   "outputs": [],
   "source": [
    "df_question1 = df_question1[df_question1['rater1'] == df_question1['rater2']]"
   ]
  },
  {
   "cell_type": "code",
   "execution_count": 450,
   "metadata": {
    "collapsed": false
   },
   "outputs": [],
   "source": [
    "#We have to encode the continuous ratings\n",
    "\n",
    "columns_to_encode = ['club','leagueCountry','position','rater1']\n",
    "for i in columns_to_encode:\n",
    "    df_question1[i] = encode(df_question1[i])\n",
    "\n"
   ]
  },
  {
   "cell_type": "code",
   "execution_count": 452,
   "metadata": {
    "collapsed": false
   },
   "outputs": [
    {
     "data": {
      "text/plain": [
       "Index(['playerShort', 'club', 'leagueCountry', 'height', 'weight', 'position',\n",
       "       'games', 'victories', 'ties', 'defeats', 'goals', 'yellowCards',\n",
       "       'yellowReds', 'redCards', 'rater1', 'meanIAT', 'nIAT', 'seIAT',\n",
       "       'meanExp', 'nExp', 'seExp'],\n",
       "      dtype='object')"
      ]
     },
     "execution_count": 452,
     "metadata": {},
     "output_type": "execute_result"
    }
   ],
   "source": [
    "#Drop Alpha_3 and refCountry since there information are already in meanIAT and meanExp\n",
    "#Drop photoID and rater2 since it has the same value than rater1. \n",
    "#Drop birthday because it is completely random and independant of the skin color.\n",
    "#Drop playerShort because there is no duplicates. \n",
    "#Drop player because there is some field with the surname, some field with \n",
    "\n",
    "#Set playerShort as index to make the groupBy after\n",
    "\n",
    "df_question1 = df_question1.drop(['refNum','rater2','birthday','refCountry','player'],1)\n",
    "df_question1 = df_question1.set_index('playerShort',drop=False)\n",
    "df_question1.columns"
   ]
  },
  {
   "cell_type": "code",
   "execution_count": 456,
   "metadata": {
    "collapsed": false
   },
   "outputs": [],
   "source": [
    "#Sum the set_to_sum columns to have the total of games, victories, ...\n",
    "\n",
    "set_to_sum = ['games','victories','ties','defeats','goals','yellowCards','yellowReds','redCards']\n",
    "df_question1 = group_sum(set_to_sum,df_question1)"
   ]
  },
  {
   "cell_type": "code",
   "execution_count": 457,
   "metadata": {
    "collapsed": false
   },
   "outputs": [
    {
     "data": {
      "text/html": [
       "<div>\n",
       "<table border=\"1\" class=\"dataframe\">\n",
       "  <thead>\n",
       "    <tr style=\"text-align: right;\">\n",
       "      <th></th>\n",
       "      <th>playerShort</th>\n",
       "      <th>club</th>\n",
       "      <th>leagueCountry</th>\n",
       "      <th>height</th>\n",
       "      <th>weight</th>\n",
       "      <th>position</th>\n",
       "      <th>games</th>\n",
       "      <th>victories</th>\n",
       "      <th>ties</th>\n",
       "      <th>defeats</th>\n",
       "      <th>...</th>\n",
       "      <th>yellowCards</th>\n",
       "      <th>yellowReds</th>\n",
       "      <th>redCards</th>\n",
       "      <th>rater1</th>\n",
       "      <th>meanIAT</th>\n",
       "      <th>nIAT</th>\n",
       "      <th>seIAT</th>\n",
       "      <th>meanExp</th>\n",
       "      <th>nExp</th>\n",
       "      <th>seExp</th>\n",
       "    </tr>\n",
       "    <tr>\n",
       "      <th>playerShort</th>\n",
       "      <th></th>\n",
       "      <th></th>\n",
       "      <th></th>\n",
       "      <th></th>\n",
       "      <th></th>\n",
       "      <th></th>\n",
       "      <th></th>\n",
       "      <th></th>\n",
       "      <th></th>\n",
       "      <th></th>\n",
       "      <th></th>\n",
       "      <th></th>\n",
       "      <th></th>\n",
       "      <th></th>\n",
       "      <th></th>\n",
       "      <th></th>\n",
       "      <th></th>\n",
       "      <th></th>\n",
       "      <th></th>\n",
       "      <th></th>\n",
       "      <th></th>\n",
       "    </tr>\n",
       "  </thead>\n",
       "  <tbody>\n",
       "    <tr>\n",
       "      <th>john-utaka</th>\n",
       "      <td>john-utaka</td>\n",
       "      <td>47</td>\n",
       "      <td>1</td>\n",
       "      <td>179.0</td>\n",
       "      <td>82.0</td>\n",
       "      <td>11</td>\n",
       "      <td>427</td>\n",
       "      <td>183</td>\n",
       "      <td>101</td>\n",
       "      <td>143</td>\n",
       "      <td>...</td>\n",
       "      <td>33</td>\n",
       "      <td>0</td>\n",
       "      <td>2</td>\n",
       "      <td>3</td>\n",
       "      <td>0.203375</td>\n",
       "      <td>40.0</td>\n",
       "      <td>0.010875</td>\n",
       "      <td>-0.204082</td>\n",
       "      <td>49.0</td>\n",
       "      <td>0.061504</td>\n",
       "    </tr>\n",
       "    <tr>\n",
       "      <th>alexander-tettey</th>\n",
       "      <td>alexander-tettey</td>\n",
       "      <td>50</td>\n",
       "      <td>0</td>\n",
       "      <td>180.0</td>\n",
       "      <td>68.0</td>\n",
       "      <td>4</td>\n",
       "      <td>214</td>\n",
       "      <td>88</td>\n",
       "      <td>54</td>\n",
       "      <td>72</td>\n",
       "      <td>...</td>\n",
       "      <td>34</td>\n",
       "      <td>0</td>\n",
       "      <td>0</td>\n",
       "      <td>4</td>\n",
       "      <td>0.325185</td>\n",
       "      <td>127.0</td>\n",
       "      <td>0.003297</td>\n",
       "      <td>0.538462</td>\n",
       "      <td>130.0</td>\n",
       "      <td>0.013752</td>\n",
       "    </tr>\n",
       "    <tr>\n",
       "      <th>anders-lindegaard</th>\n",
       "      <td>anders-lindegaard</td>\n",
       "      <td>45</td>\n",
       "      <td>0</td>\n",
       "      <td>193.0</td>\n",
       "      <td>80.0</td>\n",
       "      <td>5</td>\n",
       "      <td>100</td>\n",
       "      <td>50</td>\n",
       "      <td>20</td>\n",
       "      <td>30</td>\n",
       "      <td>...</td>\n",
       "      <td>1</td>\n",
       "      <td>0</td>\n",
       "      <td>0</td>\n",
       "      <td>1</td>\n",
       "      <td>0.325185</td>\n",
       "      <td>127.0</td>\n",
       "      <td>0.003297</td>\n",
       "      <td>0.538462</td>\n",
       "      <td>130.0</td>\n",
       "      <td>0.013752</td>\n",
       "    </tr>\n",
       "    <tr>\n",
       "      <th>andreas-beck</th>\n",
       "      <td>andreas-beck</td>\n",
       "      <td>2</td>\n",
       "      <td>2</td>\n",
       "      <td>180.0</td>\n",
       "      <td>70.0</td>\n",
       "      <td>9</td>\n",
       "      <td>296</td>\n",
       "      <td>125</td>\n",
       "      <td>72</td>\n",
       "      <td>99</td>\n",
       "      <td>...</td>\n",
       "      <td>57</td>\n",
       "      <td>1</td>\n",
       "      <td>0</td>\n",
       "      <td>0</td>\n",
       "      <td>0.325185</td>\n",
       "      <td>127.0</td>\n",
       "      <td>0.003297</td>\n",
       "      <td>0.538462</td>\n",
       "      <td>130.0</td>\n",
       "      <td>0.013752</td>\n",
       "    </tr>\n",
       "    <tr>\n",
       "      <th>antonio-rukavina</th>\n",
       "      <td>antonio-rukavina</td>\n",
       "      <td>64</td>\n",
       "      <td>3</td>\n",
       "      <td>177.0</td>\n",
       "      <td>74.0</td>\n",
       "      <td>9</td>\n",
       "      <td>249</td>\n",
       "      <td>95</td>\n",
       "      <td>70</td>\n",
       "      <td>84</td>\n",
       "      <td>...</td>\n",
       "      <td>37</td>\n",
       "      <td>1</td>\n",
       "      <td>0</td>\n",
       "      <td>0</td>\n",
       "      <td>0.325185</td>\n",
       "      <td>127.0</td>\n",
       "      <td>0.003297</td>\n",
       "      <td>0.538462</td>\n",
       "      <td>130.0</td>\n",
       "      <td>0.013752</td>\n",
       "    </tr>\n",
       "  </tbody>\n",
       "</table>\n",
       "<p>5 rows × 21 columns</p>\n",
       "</div>"
      ],
      "text/plain": [
       "                         playerShort  club  leagueCountry  height  weight  \\\n",
       "playerShort                                                                 \n",
       "john-utaka                john-utaka    47              1   179.0    82.0   \n",
       "alexander-tettey    alexander-tettey    50              0   180.0    68.0   \n",
       "anders-lindegaard  anders-lindegaard    45              0   193.0    80.0   \n",
       "andreas-beck            andreas-beck     2              2   180.0    70.0   \n",
       "antonio-rukavina    antonio-rukavina    64              3   177.0    74.0   \n",
       "\n",
       "                   position  games  victories  ties  defeats    ...     \\\n",
       "playerShort                                                     ...      \n",
       "john-utaka               11    427        183   101      143    ...      \n",
       "alexander-tettey          4    214         88    54       72    ...      \n",
       "anders-lindegaard         5    100         50    20       30    ...      \n",
       "andreas-beck              9    296        125    72       99    ...      \n",
       "antonio-rukavina          9    249         95    70       84    ...      \n",
       "\n",
       "                   yellowCards  yellowReds  redCards  rater1   meanIAT   nIAT  \\\n",
       "playerShort                                                                     \n",
       "john-utaka                  33           0         2       3  0.203375   40.0   \n",
       "alexander-tettey            34           0         0       4  0.325185  127.0   \n",
       "anders-lindegaard            1           0         0       1  0.325185  127.0   \n",
       "andreas-beck                57           1         0       0  0.325185  127.0   \n",
       "antonio-rukavina            37           1         0       0  0.325185  127.0   \n",
       "\n",
       "                      seIAT   meanExp   nExp     seExp  \n",
       "playerShort                                             \n",
       "john-utaka         0.010875 -0.204082   49.0  0.061504  \n",
       "alexander-tettey   0.003297  0.538462  130.0  0.013752  \n",
       "anders-lindegaard  0.003297  0.538462  130.0  0.013752  \n",
       "andreas-beck       0.003297  0.538462  130.0  0.013752  \n",
       "antonio-rukavina   0.003297  0.538462  130.0  0.013752  \n",
       "\n",
       "[5 rows x 21 columns]"
      ]
     },
     "execution_count": 457,
     "metadata": {},
     "output_type": "execute_result"
    }
   ],
   "source": [
    "df_question1.head()"
   ]
  },
  {
   "cell_type": "code",
   "execution_count": 458,
   "metadata": {
    "collapsed": true
   },
   "outputs": [],
   "source": [
    "#Average the set_to_average to have the average of the following columns\n",
    "\n",
    "set_to_average = ['meanIAT','nIAT','seIAT','meanExp','nExp','seExp']\n",
    "df_question1 = group_average(set_to_average,df_question1)"
   ]
  },
  {
   "cell_type": "code",
   "execution_count": 459,
   "metadata": {
    "collapsed": false
   },
   "outputs": [
    {
     "data": {
      "text/html": [
       "<div>\n",
       "<table border=\"1\" class=\"dataframe\">\n",
       "  <thead>\n",
       "    <tr style=\"text-align: right;\">\n",
       "      <th></th>\n",
       "      <th>playerShort</th>\n",
       "      <th>club</th>\n",
       "      <th>leagueCountry</th>\n",
       "      <th>height</th>\n",
       "      <th>weight</th>\n",
       "      <th>position</th>\n",
       "      <th>games</th>\n",
       "      <th>victories</th>\n",
       "      <th>ties</th>\n",
       "      <th>defeats</th>\n",
       "      <th>...</th>\n",
       "      <th>yellowCards</th>\n",
       "      <th>yellowReds</th>\n",
       "      <th>redCards</th>\n",
       "      <th>rater1</th>\n",
       "      <th>meanIAT</th>\n",
       "      <th>nIAT</th>\n",
       "      <th>seIAT</th>\n",
       "      <th>meanExp</th>\n",
       "      <th>nExp</th>\n",
       "      <th>seExp</th>\n",
       "    </tr>\n",
       "    <tr>\n",
       "      <th>playerShort</th>\n",
       "      <th></th>\n",
       "      <th></th>\n",
       "      <th></th>\n",
       "      <th></th>\n",
       "      <th></th>\n",
       "      <th></th>\n",
       "      <th></th>\n",
       "      <th></th>\n",
       "      <th></th>\n",
       "      <th></th>\n",
       "      <th></th>\n",
       "      <th></th>\n",
       "      <th></th>\n",
       "      <th></th>\n",
       "      <th></th>\n",
       "      <th></th>\n",
       "      <th></th>\n",
       "      <th></th>\n",
       "      <th></th>\n",
       "      <th></th>\n",
       "      <th></th>\n",
       "    </tr>\n",
       "  </thead>\n",
       "  <tbody>\n",
       "    <tr>\n",
       "      <th>john-utaka</th>\n",
       "      <td>john-utaka</td>\n",
       "      <td>47</td>\n",
       "      <td>1</td>\n",
       "      <td>179.0</td>\n",
       "      <td>82.0</td>\n",
       "      <td>11</td>\n",
       "      <td>427</td>\n",
       "      <td>183</td>\n",
       "      <td>101</td>\n",
       "      <td>143</td>\n",
       "      <td>...</td>\n",
       "      <td>33</td>\n",
       "      <td>0</td>\n",
       "      <td>2</td>\n",
       "      <td>3</td>\n",
       "      <td>0.326257</td>\n",
       "      <td>27076.516779</td>\n",
       "      <td>0.002318</td>\n",
       "      <td>0.318601</td>\n",
       "      <td>28089.986577</td>\n",
       "      <td>0.014216</td>\n",
       "    </tr>\n",
       "    <tr>\n",
       "      <th>alexander-tettey</th>\n",
       "      <td>alexander-tettey</td>\n",
       "      <td>50</td>\n",
       "      <td>0</td>\n",
       "      <td>180.0</td>\n",
       "      <td>68.0</td>\n",
       "      <td>4</td>\n",
       "      <td>214</td>\n",
       "      <td>88</td>\n",
       "      <td>54</td>\n",
       "      <td>72</td>\n",
       "      <td>...</td>\n",
       "      <td>34</td>\n",
       "      <td>0</td>\n",
       "      <td>0</td>\n",
       "      <td>4</td>\n",
       "      <td>0.345591</td>\n",
       "      <td>13051.611111</td>\n",
       "      <td>0.000413</td>\n",
       "      <td>0.508185</td>\n",
       "      <td>13663.259259</td>\n",
       "      <td>0.001963</td>\n",
       "    </tr>\n",
       "    <tr>\n",
       "      <th>anders-lindegaard</th>\n",
       "      <td>anders-lindegaard</td>\n",
       "      <td>45</td>\n",
       "      <td>0</td>\n",
       "      <td>193.0</td>\n",
       "      <td>80.0</td>\n",
       "      <td>5</td>\n",
       "      <td>100</td>\n",
       "      <td>50</td>\n",
       "      <td>20</td>\n",
       "      <td>30</td>\n",
       "      <td>...</td>\n",
       "      <td>1</td>\n",
       "      <td>0</td>\n",
       "      <td>0</td>\n",
       "      <td>1</td>\n",
       "      <td>0.343969</td>\n",
       "      <td>17250.422222</td>\n",
       "      <td>0.000320</td>\n",
       "      <td>0.562930</td>\n",
       "      <td>18067.511111</td>\n",
       "      <td>0.001479</td>\n",
       "    </tr>\n",
       "    <tr>\n",
       "      <th>andreas-beck</th>\n",
       "      <td>andreas-beck</td>\n",
       "      <td>2</td>\n",
       "      <td>2</td>\n",
       "      <td>180.0</td>\n",
       "      <td>70.0</td>\n",
       "      <td>9</td>\n",
       "      <td>296</td>\n",
       "      <td>125</td>\n",
       "      <td>72</td>\n",
       "      <td>99</td>\n",
       "      <td>...</td>\n",
       "      <td>57</td>\n",
       "      <td>1</td>\n",
       "      <td>0</td>\n",
       "      <td>0</td>\n",
       "      <td>0.344388</td>\n",
       "      <td>7509.556962</td>\n",
       "      <td>0.000272</td>\n",
       "      <td>0.432106</td>\n",
       "      <td>7784.000000</td>\n",
       "      <td>0.001223</td>\n",
       "    </tr>\n",
       "    <tr>\n",
       "      <th>antonio-rukavina</th>\n",
       "      <td>antonio-rukavina</td>\n",
       "      <td>64</td>\n",
       "      <td>3</td>\n",
       "      <td>177.0</td>\n",
       "      <td>74.0</td>\n",
       "      <td>9</td>\n",
       "      <td>249</td>\n",
       "      <td>95</td>\n",
       "      <td>70</td>\n",
       "      <td>84</td>\n",
       "      <td>...</td>\n",
       "      <td>37</td>\n",
       "      <td>1</td>\n",
       "      <td>0</td>\n",
       "      <td>0</td>\n",
       "      <td>0.352328</td>\n",
       "      <td>5182.114583</td>\n",
       "      <td>0.000656</td>\n",
       "      <td>0.458390</td>\n",
       "      <td>5361.104167</td>\n",
       "      <td>0.003912</td>\n",
       "    </tr>\n",
       "  </tbody>\n",
       "</table>\n",
       "<p>5 rows × 21 columns</p>\n",
       "</div>"
      ],
      "text/plain": [
       "                         playerShort  club  leagueCountry  height  weight  \\\n",
       "playerShort                                                                 \n",
       "john-utaka                john-utaka    47              1   179.0    82.0   \n",
       "alexander-tettey    alexander-tettey    50              0   180.0    68.0   \n",
       "anders-lindegaard  anders-lindegaard    45              0   193.0    80.0   \n",
       "andreas-beck            andreas-beck     2              2   180.0    70.0   \n",
       "antonio-rukavina    antonio-rukavina    64              3   177.0    74.0   \n",
       "\n",
       "                   position  games  victories  ties  defeats    ...     \\\n",
       "playerShort                                                     ...      \n",
       "john-utaka               11    427        183   101      143    ...      \n",
       "alexander-tettey          4    214         88    54       72    ...      \n",
       "anders-lindegaard         5    100         50    20       30    ...      \n",
       "andreas-beck              9    296        125    72       99    ...      \n",
       "antonio-rukavina          9    249         95    70       84    ...      \n",
       "\n",
       "                   yellowCards  yellowReds  redCards  rater1   meanIAT  \\\n",
       "playerShort                                                              \n",
       "john-utaka                  33           0         2       3  0.326257   \n",
       "alexander-tettey            34           0         0       4  0.345591   \n",
       "anders-lindegaard            1           0         0       1  0.343969   \n",
       "andreas-beck                57           1         0       0  0.344388   \n",
       "antonio-rukavina            37           1         0       0  0.352328   \n",
       "\n",
       "                           nIAT     seIAT   meanExp          nExp     seExp  \n",
       "playerShort                                                                  \n",
       "john-utaka         27076.516779  0.002318  0.318601  28089.986577  0.014216  \n",
       "alexander-tettey   13051.611111  0.000413  0.508185  13663.259259  0.001963  \n",
       "anders-lindegaard  17250.422222  0.000320  0.562930  18067.511111  0.001479  \n",
       "andreas-beck        7509.556962  0.000272  0.432106   7784.000000  0.001223  \n",
       "antonio-rukavina    5182.114583  0.000656  0.458390   5361.104167  0.003912  \n",
       "\n",
       "[5 rows x 21 columns]"
      ]
     },
     "execution_count": 459,
     "metadata": {},
     "output_type": "execute_result"
    }
   ],
   "source": [
    "df_question1.head()"
   ]
  },
  {
   "cell_type": "code",
   "execution_count": 460,
   "metadata": {
    "collapsed": false
   },
   "outputs": [
    {
     "data": {
      "text/html": [
       "<div>\n",
       "<table border=\"1\" class=\"dataframe\">\n",
       "  <thead>\n",
       "    <tr style=\"text-align: right;\">\n",
       "      <th></th>\n",
       "      <th>playerShort</th>\n",
       "      <th>club</th>\n",
       "      <th>leagueCountry</th>\n",
       "      <th>height</th>\n",
       "      <th>weight</th>\n",
       "      <th>position</th>\n",
       "      <th>games</th>\n",
       "      <th>victories</th>\n",
       "      <th>ties</th>\n",
       "      <th>defeats</th>\n",
       "      <th>...</th>\n",
       "      <th>yellowCards</th>\n",
       "      <th>yellowReds</th>\n",
       "      <th>redCards</th>\n",
       "      <th>rater1</th>\n",
       "      <th>meanIAT</th>\n",
       "      <th>nIAT</th>\n",
       "      <th>seIAT</th>\n",
       "      <th>meanExp</th>\n",
       "      <th>nExp</th>\n",
       "      <th>seExp</th>\n",
       "    </tr>\n",
       "    <tr>\n",
       "      <th>playerShort</th>\n",
       "      <th></th>\n",
       "      <th></th>\n",
       "      <th></th>\n",
       "      <th></th>\n",
       "      <th></th>\n",
       "      <th></th>\n",
       "      <th></th>\n",
       "      <th></th>\n",
       "      <th></th>\n",
       "      <th></th>\n",
       "      <th></th>\n",
       "      <th></th>\n",
       "      <th></th>\n",
       "      <th></th>\n",
       "      <th></th>\n",
       "      <th></th>\n",
       "      <th></th>\n",
       "      <th></th>\n",
       "      <th></th>\n",
       "      <th></th>\n",
       "      <th></th>\n",
       "    </tr>\n",
       "  </thead>\n",
       "  <tbody>\n",
       "    <tr>\n",
       "      <th>john-utaka</th>\n",
       "      <td>john-utaka</td>\n",
       "      <td>47</td>\n",
       "      <td>1</td>\n",
       "      <td>179.0</td>\n",
       "      <td>82.0</td>\n",
       "      <td>11</td>\n",
       "      <td>427</td>\n",
       "      <td>183</td>\n",
       "      <td>101</td>\n",
       "      <td>143</td>\n",
       "      <td>...</td>\n",
       "      <td>33</td>\n",
       "      <td>0</td>\n",
       "      <td>2</td>\n",
       "      <td>3</td>\n",
       "      <td>0.326257</td>\n",
       "      <td>27076.516779</td>\n",
       "      <td>0.002318</td>\n",
       "      <td>0.318601</td>\n",
       "      <td>28089.986577</td>\n",
       "      <td>0.014216</td>\n",
       "    </tr>\n",
       "    <tr>\n",
       "      <th>alexander-tettey</th>\n",
       "      <td>alexander-tettey</td>\n",
       "      <td>50</td>\n",
       "      <td>0</td>\n",
       "      <td>180.0</td>\n",
       "      <td>68.0</td>\n",
       "      <td>4</td>\n",
       "      <td>214</td>\n",
       "      <td>88</td>\n",
       "      <td>54</td>\n",
       "      <td>72</td>\n",
       "      <td>...</td>\n",
       "      <td>34</td>\n",
       "      <td>0</td>\n",
       "      <td>0</td>\n",
       "      <td>4</td>\n",
       "      <td>0.345591</td>\n",
       "      <td>13051.611111</td>\n",
       "      <td>0.000413</td>\n",
       "      <td>0.508185</td>\n",
       "      <td>13663.259259</td>\n",
       "      <td>0.001963</td>\n",
       "    </tr>\n",
       "    <tr>\n",
       "      <th>anders-lindegaard</th>\n",
       "      <td>anders-lindegaard</td>\n",
       "      <td>45</td>\n",
       "      <td>0</td>\n",
       "      <td>193.0</td>\n",
       "      <td>80.0</td>\n",
       "      <td>5</td>\n",
       "      <td>100</td>\n",
       "      <td>50</td>\n",
       "      <td>20</td>\n",
       "      <td>30</td>\n",
       "      <td>...</td>\n",
       "      <td>1</td>\n",
       "      <td>0</td>\n",
       "      <td>0</td>\n",
       "      <td>1</td>\n",
       "      <td>0.343969</td>\n",
       "      <td>17250.422222</td>\n",
       "      <td>0.000320</td>\n",
       "      <td>0.562930</td>\n",
       "      <td>18067.511111</td>\n",
       "      <td>0.001479</td>\n",
       "    </tr>\n",
       "    <tr>\n",
       "      <th>andreas-beck</th>\n",
       "      <td>andreas-beck</td>\n",
       "      <td>2</td>\n",
       "      <td>2</td>\n",
       "      <td>180.0</td>\n",
       "      <td>70.0</td>\n",
       "      <td>9</td>\n",
       "      <td>296</td>\n",
       "      <td>125</td>\n",
       "      <td>72</td>\n",
       "      <td>99</td>\n",
       "      <td>...</td>\n",
       "      <td>57</td>\n",
       "      <td>1</td>\n",
       "      <td>0</td>\n",
       "      <td>0</td>\n",
       "      <td>0.344388</td>\n",
       "      <td>7509.556962</td>\n",
       "      <td>0.000272</td>\n",
       "      <td>0.432106</td>\n",
       "      <td>7784.000000</td>\n",
       "      <td>0.001223</td>\n",
       "    </tr>\n",
       "    <tr>\n",
       "      <th>antonio-rukavina</th>\n",
       "      <td>antonio-rukavina</td>\n",
       "      <td>64</td>\n",
       "      <td>3</td>\n",
       "      <td>177.0</td>\n",
       "      <td>74.0</td>\n",
       "      <td>9</td>\n",
       "      <td>249</td>\n",
       "      <td>95</td>\n",
       "      <td>70</td>\n",
       "      <td>84</td>\n",
       "      <td>...</td>\n",
       "      <td>37</td>\n",
       "      <td>1</td>\n",
       "      <td>0</td>\n",
       "      <td>0</td>\n",
       "      <td>0.352328</td>\n",
       "      <td>5182.114583</td>\n",
       "      <td>0.000656</td>\n",
       "      <td>0.458390</td>\n",
       "      <td>5361.104167</td>\n",
       "      <td>0.003912</td>\n",
       "    </tr>\n",
       "  </tbody>\n",
       "</table>\n",
       "<p>5 rows × 21 columns</p>\n",
       "</div>"
      ],
      "text/plain": [
       "                         playerShort  club  leagueCountry  height  weight  \\\n",
       "playerShort                                                                 \n",
       "john-utaka                john-utaka    47              1   179.0    82.0   \n",
       "alexander-tettey    alexander-tettey    50              0   180.0    68.0   \n",
       "anders-lindegaard  anders-lindegaard    45              0   193.0    80.0   \n",
       "andreas-beck            andreas-beck     2              2   180.0    70.0   \n",
       "antonio-rukavina    antonio-rukavina    64              3   177.0    74.0   \n",
       "\n",
       "                   position  games  victories  ties  defeats    ...     \\\n",
       "playerShort                                                     ...      \n",
       "john-utaka               11    427        183   101      143    ...      \n",
       "alexander-tettey          4    214         88    54       72    ...      \n",
       "anders-lindegaard         5    100         50    20       30    ...      \n",
       "andreas-beck              9    296        125    72       99    ...      \n",
       "antonio-rukavina          9    249         95    70       84    ...      \n",
       "\n",
       "                   yellowCards  yellowReds  redCards  rater1   meanIAT  \\\n",
       "playerShort                                                              \n",
       "john-utaka                  33           0         2       3  0.326257   \n",
       "alexander-tettey            34           0         0       4  0.345591   \n",
       "anders-lindegaard            1           0         0       1  0.343969   \n",
       "andreas-beck                57           1         0       0  0.344388   \n",
       "antonio-rukavina            37           1         0       0  0.352328   \n",
       "\n",
       "                           nIAT     seIAT   meanExp          nExp     seExp  \n",
       "playerShort                                                                  \n",
       "john-utaka         27076.516779  0.002318  0.318601  28089.986577  0.014216  \n",
       "alexander-tettey   13051.611111  0.000413  0.508185  13663.259259  0.001963  \n",
       "anders-lindegaard  17250.422222  0.000320  0.562930  18067.511111  0.001479  \n",
       "andreas-beck        7509.556962  0.000272  0.432106   7784.000000  0.001223  \n",
       "antonio-rukavina    5182.114583  0.000656  0.458390   5361.104167  0.003912  \n",
       "\n",
       "[5 rows x 21 columns]"
      ]
     },
     "execution_count": 460,
     "metadata": {},
     "output_type": "execute_result"
    }
   ],
   "source": [
    "#We drop the players with the same playerShort since they are the same person\n",
    "\n",
    "df_question1 = df_question1.drop_duplicates()\n",
    "df_question1.head()"
   ]
  },
  {
   "cell_type": "code",
   "execution_count": 461,
   "metadata": {
    "collapsed": false
   },
   "outputs": [
    {
     "data": {
      "text/plain": [
       "(1082, 21)"
      ]
     },
     "execution_count": 461,
     "metadata": {},
     "output_type": "execute_result"
    }
   ],
   "source": [
    "#We have 1082 players\n",
    "\n",
    "df_question1.shape"
   ]
  },
  {
   "cell_type": "code",
   "execution_count": 464,
   "metadata": {
    "collapsed": false
   },
   "outputs": [],
   "source": [
    "#Preparation of the datas for the RandomForestClassifier\n",
    "#Each column of X has its name in the same index in name_features. Don't forget that it is really important\n",
    "\n",
    "name_features = df_question1.drop(['rater1','playerShort'],1).columns\n",
    "X = df_question1.drop(['rater1','playerShort'],1).as_matrix()\n",
    "y = df_question1['rater1'].as_matrix()"
   ]
  },
  {
   "cell_type": "markdown",
   "metadata": {},
   "source": [
    "## Cross_validation function to compare models and see over/underfitting"
   ]
  },
  {
   "cell_type": "code",
   "execution_count": 470,
   "metadata": {
    "collapsed": true
   },
   "outputs": [],
   "source": [
    "#Cross_validation is when we split out dataset into a train and a test set. It allows us to tune the parameters. \n",
    "#To have a good evaluation of the model, we will select 20 different train and test sets but with the same size \n",
    "#and return the mean accuracy of each train and test set\n",
    "\n",
    "def cross_validation(X,y,ratio,r,Kfolds=3):\n",
    "    score_train, score_test = [], []\n",
    "    for i in range(Kfolds):\n",
    "        X_train, X_test, y_train, y_test = train_test_split(X, y, test_size=ratio, random_state=i)\n",
    "        r.fit(X_train,y_train)\n",
    "        score_train.append(r.score(X_train,y_train))\n",
    "        score_test.append(r.score(X_test,y_test))\n",
    "    return np.mean(score_train), np.mean(score_test)"
   ]
  },
  {
   "cell_type": "markdown",
   "metadata": {},
   "source": [
    "## Proof of Overfitting"
   ]
  },
  {
   "cell_type": "code",
   "execution_count": 471,
   "metadata": {
    "collapsed": false
   },
   "outputs": [
    {
     "name": "stdout",
     "output_type": "stream",
     "text": [
      "Accuracy of the train set : 1.0\n",
      "Accuracy of the test set : 0.40377213241\n"
     ]
    }
   ],
   "source": [
    "#In this example, we can see that the accuracy of our training set is 100%. On the contrary, the accuracy\n",
    "#on our test set falls down to 40.37%. This states clearly that there is overfitting over the train set \n",
    "#since when the model receive new inputs, it doesn't predict well the labels\n",
    "\n",
    "r = rfc(max_features=None,n_estimators=100)\n",
    "score_train, score_test = cross_validation(X,y,0.8,r)\n",
    "print('Accuracy of the train set : ' + str(score_train) + \\\n",
    "      '\\nAccuracy of the test set : ' + str(score_test))"
   ]
  },
  {
   "cell_type": "markdown",
   "metadata": {},
   "source": [
    "## Show how different parameters passed to the Classifier affect the overfitting issue. We will try with 2 parameters"
   ]
  },
  {
   "cell_type": "code",
   "execution_count": 473,
   "metadata": {
    "collapsed": false
   },
   "outputs": [
    {
     "name": "stdout",
     "output_type": "stream",
     "text": [
      "n_estimators : 90\n",
      "Accuracy of the train set : 1.0\n",
      "Accuracy of the test set : 0.408391070054\n",
      "\n",
      "n_estimators : 50\n",
      "Accuracy of the train set : 1.0\n",
      "Accuracy of the test set : 0.40415704388\n",
      "\n",
      "n_estimators : 10\n",
      "Accuracy of the train set : 0.986111111111\n",
      "Accuracy of the test set : 0.387605850654\n",
      "\n"
     ]
    }
   ],
   "source": [
    "#We can see that by changing the value of the parameter n_estimators that the overfitting increase\n",
    "#since the accuracy of the test set decreases \n",
    "\n",
    "n_estimator = [90,50,10]\n",
    "for i in n_estimator:\n",
    "    r = rfc(max_features=None,n_estimators=i)\n",
    "    score_train, score_test = cross_validation(X,y,0.8,r)\n",
    "    print('n_estimators : ' + str(i) + '\\nAccuracy of the train set : ' + str(score_train) + \\\n",
    "      '\\nAccuracy of the test set : ' + str(score_test) + '\\n')"
   ]
  },
  {
   "cell_type": "code",
   "execution_count": 481,
   "metadata": {
    "collapsed": false
   },
   "outputs": [
    {
     "name": "stdout",
     "output_type": "stream",
     "text": [
      "min_samples_leaf : 5\n",
      "Accuracy of the train set : 0.694444444444\n",
      "Accuracy of the test set : 0.396843725943\n",
      "\n",
      "min_samples_leaf : 7\n",
      "Accuracy of the train set : 0.623456790123\n",
      "Accuracy of the test set : 0.40377213241\n",
      "\n",
      "min_samples_leaf : 9\n",
      "Accuracy of the train set : 0.606481481481\n",
      "Accuracy of the test set : 0.408775981524\n",
      "\n"
     ]
    }
   ],
   "source": [
    "#When we increase min_samples_leaf, the train set score is decreasing but the test set score is increasing.\n",
    "#Thus, the overfitting is decreasing but the model doesn't fit right the model\n",
    "\n",
    "min_samples_leaf = [5,7,9]\n",
    "for i in min_samples_leaf:\n",
    "    r = rfc(min_samples_leaf=i)\n",
    "    score_train, score_test = cross_validation(X,y,0.8,r)\n",
    "    print('min_samples_leaf : ' + str(i) + '\\nAccuracy of the train set : ' + str(score_train) + \\\n",
    "      '\\nAccuracy of the test set : ' + str(score_test) + '\\n')"
   ]
  },
  {
   "cell_type": "markdown",
   "metadata": {},
   "source": [
    "## Find a good model by modifying parameters. Perform cross_validation to mitigate the overfitting of the model"
   ]
  },
  {
   "cell_type": "code",
   "execution_count": 31,
   "metadata": {
    "collapsed": false
   },
   "outputs": [
    {
     "name": "stdout",
     "output_type": "stream",
     "text": [
      "95 7 2 0.957561728395 0.448205128205\n",
      "105 9 2 0.912808641975 0.448205128205\n",
      "115 4 3 0.95524691358 0.449230769231\n",
      "130 2 2 0.99537037037 0.447179487179\n",
      "145 2 2 0.996141975309 0.448717948718\n"
     ]
    }
   ],
   "source": [
    "#Our model will be based on 3 tuning parameters. We can see that the best values for min_samples_leaf\n",
    "#are low. For min_samples_split, there is no pattern but it seems that it is different than the default value 2.\n",
    "\n",
    "n_estimators = range(90,150,5)\n",
    "min_samples_split = range(2,10)\n",
    "min_samples_leaf = range(2,5)\n",
    "\n",
    "\n",
    "score_train = []\n",
    "score_test = []\n",
    "for i in n_estimators:\n",
    "    for j in min_samples_split:\n",
    "        for k in min_samples_leaf:\n",
    "                r = rfc(n_estimators = i, criterion = 'entropy', min_samples_leaf = k, min_samples_split = j)\n",
    "                score_train, score_test = cross_validation(X,y,0.6,r)\n",
    "                if score_train >= 0.8 and score_test >= 0.447:\n",
    "                    print(i,j,k,score_train,score_test)"
   ]
  },
  {
   "cell_type": "code",
   "execution_count": 313,
   "metadata": {
    "collapsed": false
   },
   "outputs": [
    {
     "data": {
      "text/plain": [
       "RandomForestClassifier(bootstrap=True, class_weight=None, criterion='entropy',\n",
       "            max_depth=None, max_features='auto', max_leaf_nodes=None,\n",
       "            min_impurity_split=1e-07, min_samples_leaf=2,\n",
       "            min_samples_split=2, min_weight_fraction_leaf=0.0,\n",
       "            n_estimators=145, n_jobs=1, oob_score=False, random_state=None,\n",
       "            verbose=0, warm_start=False)"
      ]
     },
     "execution_count": 313,
     "metadata": {},
     "output_type": "execute_result"
    }
   ],
   "source": [
    "r_opt = rfc(n_estimators = 145, criterion = 'entropy', min_samples_leaf = 2, min_samples_split = 2)\n",
    "r_opt.fit(X,y)"
   ]
  },
  {
   "cell_type": "markdown",
   "metadata": {},
   "source": [
    "## Inspection of feature_importances attribute and discussion of the obtained results"
   ]
  },
  {
   "cell_type": "code",
   "execution_count": 314,
   "metadata": {
    "collapsed": true
   },
   "outputs": [],
   "source": [
    "#This method will return the ranked columns names. Plus if plot is True, it will also plot the histogram\n",
    "# of the features importance with their names as abscisse and their value as ordonate\n",
    "\n",
    "def sorted_strings_values(strings,y,return_y = False):\n",
    "    y , strings = (list(t) for t in zip(*sorted(zip(y, strings))))\n",
    "    if return_y:\n",
    "        return y , strings\n",
    "    else:\n",
    "        return np.array(strings)\n",
    "\n",
    "def plot_hist(strings,y):\n",
    "    y , strings = sorted_strings_values(strings,y, return_y = True)\n",
    "    plt.bar(range(len(y)), y, align='center')\n",
    "    plt.xticks(range(len(y)), strings)\n",
    "    locs, labels = plt.xticks()\n",
    "    plt.setp(labels, rotation=90)\n",
    "    plt.show()"
   ]
  },
  {
   "cell_type": "code",
   "execution_count": 315,
   "metadata": {
    "collapsed": false
   },
   "outputs": [
    {
     "data": {
      "image/png": "[encoded data removed]",
      "text/plain": [
       "<matplotlib.figure.Figure at 0x1263f9048>"
      ]
     },
     "metadata": {},
     "output_type": "display_data"
    }
   ],
   "source": [
    "#We have the ranking of the features for the model when it fits all the features\n",
    "\n",
    "f = r_opt.feature_importances_\n",
    "strings_opt = sorted_strings_values(name_features,f)\n",
    "plot_hist(name_features,f)"
   ]
  },
  {
   "cell_type": "markdown",
   "metadata": {},
   "source": [
    "## Feature_importances attribute when we drop some features at the begining"
   ]
  },
  {
   "cell_type": "code",
   "execution_count": 382,
   "metadata": {
    "collapsed": false
   },
   "outputs": [
    {
     "data": {
      "image/png": "[encoded data removed]",
      "text/plain": [
       "<matplotlib.figure.Figure at 0x127156ba8>"
      ]
     },
     "metadata": {},
     "output_type": "display_data"
    },
    {
     "data": {
      "image/png": "[encoded data removed]",
      "text/plain": [
       "<matplotlib.figure.Figure at 0x125b6c9e8>"
      ]
     },
     "metadata": {},
     "output_type": "display_data"
    },
    {
     "name": "stdout",
     "output_type": "stream",
     "text": [
      "For  position , there is  10  differences.\n"
     ]
    }
   ],
   "source": [
    "#The columns in name_features correspond to the columns in X. For example the name of the first columns of X\n",
    "#is the first element of name_features. \n",
    "\n",
    "#First step : find the index of the feature we want to remove in name_features\n",
    "#Then remove the name from name_features and X since it is in the same index\n",
    "#Now we have the right names and inputs\n",
    "#Fit then the model and take the names of the columns sorted with respect to their importances\n",
    "#Since we have fitted the model, feature_importances_ correspond to the right features\n",
    "\n",
    "feature_to_remove = 'position'\n",
    "\n",
    "index = np.where(name_features == feature_to_remove)[0] \n",
    "name_columns_without_feature = np.delete(name_features,index,0)\n",
    "X_without_feature = np.delete(X,index,1)\n",
    "r_opt.fit(X_without_feature,y)\n",
    "features_name = sorted_strings_values(name_columns_without_feature,r_opt.feature_importances_)\n",
    "    \n",
    "#Second step : Take the sorted name of columns when we had all the features (it is in strings_opt)\n",
    "#Then delete the feature we want from strings_opt so that we will be able to compare them to \n",
    "# the ranking we computed before without the input\n",
    "    \n",
    "features_opt = np.delete(strings_opt,np.where(strings_opt == feature_to_remove)[0],0)\n",
    "\n",
    "#Last step : See how many features are ranked differently and plot them if there is more than 8 differences\n",
    "\n",
    "s = np.sum(features_name != features_opt)\n",
    "    \n",
    "if s > 8:\n",
    "    plot_hist(name_columns_without_feature,r_opt.feature_importances_)\n",
    "    plot_hist(np.delete(name_features,index,0),np.delete(f,index,0))\n",
    "    print('For ',feature_to_remove,', there is ',s,' differences.')\n",
    "    \n",
    "#There is no big difference in the pattern but there is 10 different entries in the ranking"
   ]
  },
  {
   "cell_type": "code",
   "execution_count": 384,
   "metadata": {
    "collapsed": false
   },
   "outputs": [
    {
     "data": {
      "image/png": "[encoded data removed]",
      "text/plain": [
       "<matplotlib.figure.Figure at 0x126b44240>"
      ]
     },
     "metadata": {},
     "output_type": "display_data"
    }
   ],
   "source": [
    "#The last histogram above : it is the ranking given by all the features. We just removed the feature we wanted\n",
    "#and keep the same ranking.\n",
    "#Don't forget our initial histogram when we had all the features. We can see that the last histogram\n",
    "#is just the ranking without the feature we wanted to remove. This proves that the code is good.\n",
    "#The removed feature is position\n",
    "\n",
    "plot_hist(name_features,f)"
   ]
  },
  {
   "cell_type": "markdown",
   "metadata": {},
   "source": [
    "## Bonus question. For this, we will take 2 different RandomForestClassifier"
   ]
  },
  {
   "cell_type": "code",
   "execution_count": 482,
   "metadata": {
    "collapsed": false
   },
   "outputs": [
    {
     "data": {
      "image/png": "[encoded data removed]",
      "text/plain": [
       "<matplotlib.figure.Figure at 0x1264c3d30>"
      ]
     },
     "metadata": {},
     "output_type": "display_data"
    },
    {
     "data": {
      "image/png": "[encoded data removed]",
      "text/plain": [
       "<matplotlib.figure.Figure at 0x126977cc0>"
      ]
     },
     "metadata": {},
     "output_type": "display_data"
    }
   ],
   "source": [
    "#In the first learning curve with the optimal RandomForectClassifier, we notice that the bias is decreasing\n",
    "#since the train and test score is increasing. This means that we fit better and better both train and test set\n",
    "#The bias is low  for the train set.\n",
    "\n",
    "#On the contrary, the second learning curve is decreasing. This means that our model fits badly our train set. Thus\n",
    "#the bias is increasing. At the end the bias is high. \n",
    "\n",
    "r = rfc(max_depth=3,max_leaf_nodes=3)\n",
    "\n",
    "def learning_curve(X,y,r):\n",
    "    train_score = []\n",
    "    test_score = []\n",
    "    N = range(10,X.shape[0],50)\n",
    "    for i in N:\n",
    "        train, test = cross_validation(X[0:i,:],y[0:i],0.8,r,Kfolds=20)\n",
    "        train_score.append(train)\n",
    "        test_score.append(test)\n",
    "    return N, train_score, test_score\n",
    "\n",
    "N, train_score_1, test_score_1 = learning_curve(X,y,r_opt)\n",
    "N, train_score_2, test_score_2 = learning_curve(X,y,r)\n",
    "plt.plot(N, train_score_1, 'r', N, test_score_1, 'b')\n",
    "plt.show()\n",
    "plt.plot(N, train_score_2, 'r', N, test_score_2, 'b')\n",
    "plt.show()"
   ]
  },
  {
   "cell_type": "markdown",
   "metadata": {},
   "source": [
    "# Question 2"
   ]
  },
  {
   "cell_type": "code",
   "execution_count": 843,
   "metadata": {
    "collapsed": false
   },
   "outputs": [
    {
     "data": {
      "text/plain": [
       "Index(['playerShort', 'player', 'club', 'leagueCountry', 'birthday', 'height',\n",
       "       'weight', 'position', 'games', 'victories', 'ties', 'defeats', 'goals',\n",
       "       'yellowCards', 'yellowReds', 'redCards', 'rater1', 'rater2', 'refNum',\n",
       "       'refCountry', 'meanIAT', 'nIAT', 'seIAT', 'meanExp', 'nExp', 'seExp'],\n",
       "      dtype='object')"
      ]
     },
     "execution_count": 843,
     "metadata": {},
     "output_type": "execute_result"
    }
   ],
   "source": [
    "df.columns"
   ]
  },
  {
   "cell_type": "code",
   "execution_count": 844,
   "metadata": {
    "collapsed": false
   },
   "outputs": [
    {
     "data": {
      "text/html": [
       "<div>\n",
       "<table border=\"1\" class=\"dataframe\">\n",
       "  <thead>\n",
       "    <tr style=\"text-align: right;\">\n",
       "      <th></th>\n",
       "      <th>victories</th>\n",
       "      <th>ties</th>\n",
       "      <th>defeats</th>\n",
       "      <th>goals</th>\n",
       "      <th>yellowCards</th>\n",
       "      <th>yellowReds</th>\n",
       "      <th>redCards</th>\n",
       "      <th>playerShort</th>\n",
       "      <th>meanIAT</th>\n",
       "      <th>nIAT</th>\n",
       "      <th>seIAT</th>\n",
       "      <th>meanExp</th>\n",
       "      <th>nExp</th>\n",
       "      <th>seExp</th>\n",
       "      <th>rater1</th>\n",
       "      <th>rater2</th>\n",
       "    </tr>\n",
       "    <tr>\n",
       "      <th>playerShort</th>\n",
       "      <th></th>\n",
       "      <th></th>\n",
       "      <th></th>\n",
       "      <th></th>\n",
       "      <th></th>\n",
       "      <th></th>\n",
       "      <th></th>\n",
       "      <th></th>\n",
       "      <th></th>\n",
       "      <th></th>\n",
       "      <th></th>\n",
       "      <th></th>\n",
       "      <th></th>\n",
       "      <th></th>\n",
       "      <th></th>\n",
       "      <th></th>\n",
       "    </tr>\n",
       "  </thead>\n",
       "  <tbody>\n",
       "    <tr>\n",
       "      <th>lucas-wilchez</th>\n",
       "      <td>0</td>\n",
       "      <td>0</td>\n",
       "      <td>1</td>\n",
       "      <td>0</td>\n",
       "      <td>0</td>\n",
       "      <td>0</td>\n",
       "      <td>0</td>\n",
       "      <td>lucas-wilchez</td>\n",
       "      <td>0.326391</td>\n",
       "      <td>712.0</td>\n",
       "      <td>0.000564</td>\n",
       "      <td>0.396000</td>\n",
       "      <td>750.0</td>\n",
       "      <td>0.002696</td>\n",
       "      <td>0.25</td>\n",
       "      <td>0.50</td>\n",
       "    </tr>\n",
       "    <tr>\n",
       "      <th>john-utaka</th>\n",
       "      <td>0</td>\n",
       "      <td>0</td>\n",
       "      <td>1</td>\n",
       "      <td>0</td>\n",
       "      <td>1</td>\n",
       "      <td>0</td>\n",
       "      <td>0</td>\n",
       "      <td>john-utaka</td>\n",
       "      <td>0.203375</td>\n",
       "      <td>40.0</td>\n",
       "      <td>0.010875</td>\n",
       "      <td>-0.204082</td>\n",
       "      <td>49.0</td>\n",
       "      <td>0.061504</td>\n",
       "      <td>0.75</td>\n",
       "      <td>0.75</td>\n",
       "    </tr>\n",
       "    <tr>\n",
       "      <th>aaron-hughes</th>\n",
       "      <td>0</td>\n",
       "      <td>0</td>\n",
       "      <td>1</td>\n",
       "      <td>0</td>\n",
       "      <td>0</td>\n",
       "      <td>0</td>\n",
       "      <td>0</td>\n",
       "      <td>aaron-hughes</td>\n",
       "      <td>0.325185</td>\n",
       "      <td>127.0</td>\n",
       "      <td>0.003297</td>\n",
       "      <td>0.538462</td>\n",
       "      <td>130.0</td>\n",
       "      <td>0.013752</td>\n",
       "      <td>0.25</td>\n",
       "      <td>0.00</td>\n",
       "    </tr>\n",
       "    <tr>\n",
       "      <th>aleksandar-kolarov</th>\n",
       "      <td>1</td>\n",
       "      <td>0</td>\n",
       "      <td>0</td>\n",
       "      <td>0</td>\n",
       "      <td>0</td>\n",
       "      <td>0</td>\n",
       "      <td>0</td>\n",
       "      <td>aleksandar-kolarov</td>\n",
       "      <td>0.325185</td>\n",
       "      <td>127.0</td>\n",
       "      <td>0.003297</td>\n",
       "      <td>0.538462</td>\n",
       "      <td>130.0</td>\n",
       "      <td>0.013752</td>\n",
       "      <td>0.00</td>\n",
       "      <td>0.25</td>\n",
       "    </tr>\n",
       "    <tr>\n",
       "      <th>alexander-tettey</th>\n",
       "      <td>0</td>\n",
       "      <td>0</td>\n",
       "      <td>1</td>\n",
       "      <td>0</td>\n",
       "      <td>0</td>\n",
       "      <td>0</td>\n",
       "      <td>0</td>\n",
       "      <td>alexander-tettey</td>\n",
       "      <td>0.325185</td>\n",
       "      <td>127.0</td>\n",
       "      <td>0.003297</td>\n",
       "      <td>0.538462</td>\n",
       "      <td>130.0</td>\n",
       "      <td>0.013752</td>\n",
       "      <td>1.00</td>\n",
       "      <td>1.00</td>\n",
       "    </tr>\n",
       "  </tbody>\n",
       "</table>\n",
       "</div>"
      ],
      "text/plain": [
       "                    victories  ties  defeats  goals  yellowCards  yellowReds  \\\n",
       "playerShort                                                                    \n",
       "lucas-wilchez               0     0        1      0            0           0   \n",
       "john-utaka                  0     0        1      0            1           0   \n",
       "aaron-hughes                0     0        1      0            0           0   \n",
       "aleksandar-kolarov          1     0        0      0            0           0   \n",
       "alexander-tettey            0     0        1      0            0           0   \n",
       "\n",
       "                    redCards         playerShort   meanIAT   nIAT     seIAT  \\\n",
       "playerShort                                                                   \n",
       "lucas-wilchez              0       lucas-wilchez  0.326391  712.0  0.000564   \n",
       "john-utaka                 0          john-utaka  0.203375   40.0  0.010875   \n",
       "aaron-hughes               0        aaron-hughes  0.325185  127.0  0.003297   \n",
       "aleksandar-kolarov         0  aleksandar-kolarov  0.325185  127.0  0.003297   \n",
       "alexander-tettey           0    alexander-tettey  0.325185  127.0  0.003297   \n",
       "\n",
       "                     meanExp   nExp     seExp  rater1  rater2  \n",
       "playerShort                                                    \n",
       "lucas-wilchez       0.396000  750.0  0.002696    0.25    0.50  \n",
       "john-utaka         -0.204082   49.0  0.061504    0.75    0.75  \n",
       "aaron-hughes        0.538462  130.0  0.013752    0.25    0.00  \n",
       "aleksandar-kolarov  0.538462  130.0  0.013752    0.00    0.25  \n",
       "alexander-tettey    0.538462  130.0  0.013752    1.00    1.00  "
      ]
     },
     "execution_count": 844,
     "metadata": {},
     "output_type": "execute_result"
    }
   ],
   "source": [
    "#The goal of this question is to see if there is racism in football. Thus, the goal is to see if\n",
    "#the referees actions are different with respect to the skin color. The inputs would be all the \n",
    "#referees information. After that, we will make 2 clusters and see the distribution of the skin color\n",
    "\n",
    "ref_information = ['victories','ties','defeats','goals','yellowCards','yellowReds','redCards','playerShort',\\\n",
    "                   'meanIAT','nIAT','seIAT','meanExp','nExp','seExp','rater1','rater2']\n",
    "\n",
    "df_question2 = df.set_index(['playerShort'],drop=False)[ref_information]\n",
    "df_question2.head()"
   ]
  },
  {
   "cell_type": "code",
   "execution_count": 845,
   "metadata": {
    "collapsed": false
   },
   "outputs": [
    {
     "data": {
      "text/plain": [
       "victories      0\n",
       "ties           0\n",
       "defeats        0\n",
       "goals          0\n",
       "yellowCards    0\n",
       "yellowReds     0\n",
       "redCards       0\n",
       "playerShort    0\n",
       "meanIAT        0\n",
       "nIAT           0\n",
       "seIAT          0\n",
       "meanExp        0\n",
       "nExp           0\n",
       "seExp          0\n",
       "rater1         0\n",
       "rater2         0\n",
       "dtype: int64"
      ]
     },
     "execution_count": 845,
     "metadata": {},
     "output_type": "execute_result"
    }
   ],
   "source": [
    "#We don't have any NaN since we preprocessed only a part of the NaN before the question1 and we dropped in \n",
    "#the last cell every columns with NaN. There are not important for this part since they give no information\n",
    "#about the referee\n",
    "\n",
    "np.sum(df_question2.isnull())"
   ]
  },
  {
   "cell_type": "code",
   "execution_count": 846,
   "metadata": {
    "collapsed": false
   },
   "outputs": [
    {
     "data": {
      "text/plain": [
       "True     95604\n",
       "False    28864\n",
       "dtype: int64"
      ]
     },
     "execution_count": 846,
     "metadata": {},
     "output_type": "execute_result"
    }
   ],
   "source": [
    "(df_question2['rater1'] == df_question2['rater2']).value_counts()"
   ]
  },
  {
   "cell_type": "code",
   "execution_count": 847,
   "metadata": {
    "collapsed": false
   },
   "outputs": [
    {
     "data": {
      "text/plain": [
       "0.00    39.966096\n",
       "0.25    35.072468\n",
       "0.50    10.837324\n",
       "0.75     7.615612\n",
       "1.00     6.508500\n",
       "Name: rater1, dtype: float64"
      ]
     },
     "execution_count": 847,
     "metadata": {},
     "output_type": "execute_result"
    }
   ],
   "source": [
    "#Now we will again check the distribution of the 2 raters and the distribution of the rates when rater1 and \n",
    "#rater2 is the same. We repeat this step because we don't have the same dataset than before.\n",
    "\n",
    "ratio_rater1 = 100*df_question2['rater1'].value_counts()/np.sum(df_question2['rater1'].value_counts())\n",
    "ratio_rater1"
   ]
  },
  {
   "cell_type": "code",
   "execution_count": 848,
   "metadata": {
    "collapsed": false
   },
   "outputs": [
    {
     "data": {
      "text/plain": [
       "0.00    28.676447\n",
       "0.25    45.327313\n",
       "0.50    10.144776\n",
       "0.75     7.949834\n",
       "1.00     7.901629\n",
       "Name: rater2, dtype: float64"
      ]
     },
     "execution_count": 848,
     "metadata": {},
     "output_type": "execute_result"
    }
   ],
   "source": [
    "ratio_rater2 = 100*df_question2['rater2'].value_counts()/np.sum(df_question2['rater2'].value_counts())\n",
    "ratio_rater2.sort_index()"
   ]
  },
  {
   "cell_type": "code",
   "execution_count": 849,
   "metadata": {
    "collapsed": false
   },
   "outputs": [
    {
     "data": {
      "text/plain": [
       "0.00    34.321271\n",
       "0.25    40.199891\n",
       "0.50    10.491050\n",
       "0.75     7.782723\n",
       "1.00     7.205065\n",
       "dtype: float64"
      ]
     },
     "execution_count": 849,
     "metadata": {},
     "output_type": "execute_result"
    }
   ],
   "source": [
    "(ratio_rater1 + ratio_rater2)/2"
   ]
  },
  {
   "cell_type": "code",
   "execution_count": 742,
   "metadata": {
    "collapsed": false
   },
   "outputs": [
    {
     "data": {
      "text/plain": [
       "0.00    35.255847\n",
       "0.25    40.069453\n",
       "0.50     9.385591\n",
       "0.75     7.389858\n",
       "1.00     7.899251\n",
       "Name: rater1, dtype: float64"
      ]
     },
     "execution_count": 742,
     "metadata": {},
     "output_type": "execute_result"
    }
   ],
   "source": [
    "#We can see that the last cell and this one are quit similar\n",
    "\n",
    "index = df_question2['rater1'] == df_question2['rater2']\n",
    "(100*df_question2[index]['rater1'].value_counts()/np.sum(df_question2[index]['rater1'].value_counts())).sort_index()"
   ]
  },
  {
   "cell_type": "code",
   "execution_count": 743,
   "metadata": {
    "collapsed": true
   },
   "outputs": [],
   "source": [
    "#We take only the rows where there is the same ratings and keep only rater1\n",
    "\n",
    "df_question2 = df_question2[index].drop(['rater2'],1)"
   ]
  },
  {
   "cell_type": "code",
   "execution_count": 744,
   "metadata": {
    "collapsed": false
   },
   "outputs": [],
   "source": [
    "#We sum all the columns in ref_information_to_sum for each playerShort\n",
    "\n",
    "ref_information_to_sum = ['victories','ties','defeats','goals','yellowCards','yellowReds','redCards']\n",
    "df_question2 = group_sum(ref_information_to_sum,df_question2)"
   ]
  },
  {
   "cell_type": "code",
   "execution_count": 745,
   "metadata": {
    "collapsed": true
   },
   "outputs": [],
   "source": [
    "#We aggregate all the columns in ref_information_to_average for each playerShort\n",
    "\n",
    "ref_information_to_average = ['meanIAT','nIAT','seIAT','meanExp','nExp','seExp']\n",
    "df_question2 = group_average(ref_information_to_average,df_question2)"
   ]
  },
  {
   "cell_type": "code",
   "execution_count": 746,
   "metadata": {
    "collapsed": true
   },
   "outputs": [],
   "source": [
    "#We keep only one row per playerShort since we have already grouped all the necessary details\n",
    "\n",
    "df_question2 = df_question2.drop(['playerShort'],1).drop_duplicates()"
   ]
  },
  {
   "cell_type": "code",
   "execution_count": 747,
   "metadata": {
    "collapsed": false
   },
   "outputs": [
    {
     "data": {
      "text/plain": [
       "(1206, 14)"
      ]
     },
     "execution_count": 747,
     "metadata": {},
     "output_type": "execute_result"
    }
   ],
   "source": [
    "#We have 1206 differents players\n",
    "\n",
    "df_question2.shape"
   ]
  },
  {
   "cell_type": "code",
   "execution_count": 748,
   "metadata": {
    "collapsed": true
   },
   "outputs": [],
   "source": [
    "#We take a dataframe to make the cluster and a dataframe to see how many players are on each clusters\n",
    "\n",
    "ref_inf = df_question2.drop(['rater1'],1)\n",
    "skin_tone = df_question2[['rater1']]"
   ]
  },
  {
   "cell_type": "code",
   "execution_count": 749,
   "metadata": {
    "collapsed": true
   },
   "outputs": [],
   "source": [
    "Kmeans = KMeans(n_clusters = 2,random_state=0)"
   ]
  },
  {
   "cell_type": "code",
   "execution_count": 833,
   "metadata": {
    "collapsed": false
   },
   "outputs": [
    {
     "name": "stderr",
     "output_type": "stream",
     "text": [
      "/Users/zaimwadghiri/anaconda/lib/python3.5/site-packages/ipykernel/__main__.py:5: SettingWithCopyWarning: \n",
      "A value is trying to be set on a copy of a slice from a DataFrame.\n",
      "Try using .loc[row_indexer,col_indexer] = value instead\n",
      "\n",
      "See the caveats in the documentation: http://pandas.pydata.org/pandas-docs/stable/indexing.html#indexing-view-versus-copy\n"
     ]
    }
   ],
   "source": [
    "#We will make a recursion over each dataframe. The last is an input of the function. Each time we will\n",
    "#remove the column that gives the minimum score. At the end we will have the ratio, the columns and the score\n",
    "#of the best subset of size i for i between 1 and 13. Since we don't have the score, ratio and columns for \n",
    "#all the features (size 14), thus we will call the function the first time with those values already.\n",
    "\n",
    "def iterate_for_cluster(ratios, cols, scores, df):\n",
    "    \n",
    "    stop = False\n",
    "    \n",
    "    if df.shape[1] == 2:\n",
    "        stop = True\n",
    "        \n",
    "    col_del, max_score, max_cols, max_labs = compute_max_min_score(df)\n",
    "    cols.append(max_cols)\n",
    "    scores.append(max_score)\n",
    "    \n",
    "    ratios_cluster0 = compute_ratio(max_labs)\n",
    "    ratios.append(ratios_cluster0)\n",
    "    \n",
    "    if not(stop):\n",
    "        ratios , cols , scores = iterate_for_cluster(ratios, cols, scores, df.drop(col_del,1))\n",
    "    \n",
    "    return ratios, cols, scores\n",
    "\n",
    "\n",
    "\n",
    "#Initialisation :\n",
    "\n",
    "ratios = []\n",
    "cols = []\n",
    "scores = []\n",
    "\n",
    "#Size 14 :\n",
    "\n",
    "cols.append(ref_inf.columns)\n",
    "X_14 = ref_inf.as_matrix()\n",
    "labels = Kmeans.fit_predict(X_14)\n",
    "scores.append(silhouette_score(X_14, labels,random_state=0))\n",
    "ratios.append(compute_ratio(labels))\n",
    "\n",
    "#Other sizes :\n",
    "\n",
    "ratios, cols, scores = iterate_for_cluster(ratios,cols,scores,ref_inf)\n",
    "\n"
   ]
  },
  {
   "cell_type": "code",
   "execution_count": 813,
   "metadata": {
    "collapsed": false
   },
   "outputs": [],
   "source": [
    "#Here we have a dataframe input. We remove each time only one column and see which combination gives the best\n",
    "#score to see if it has a high score and compute the ratio of each ratings within the cluster 0. Plus, we\n",
    "#also compute the min score in order to be able to delete the column that gives the lowest score\n",
    "\n",
    "def compute_max_min_score(df):\n",
    "    max_score = -100\n",
    "    min_score = 100\n",
    "    for i in df.columns:\n",
    "        X_cluster = df.drop(i,1).as_matrix()\n",
    "        labels = Kmeans.fit_predict(X_cluster)\n",
    "        score = silhouette_score(X_cluster, labels,random_state=0)\n",
    "        if max_score < score:\n",
    "            max_score = score\n",
    "            max_columns = df.drop(i,1).columns\n",
    "            max_labels = labels\n",
    "        if min_score > score:\n",
    "            min_score = score\n",
    "            column_to_delete = i\n",
    "    return column_to_delete, max_score, max_columns, max_labels\n"
   ]
  },
  {
   "cell_type": "code",
   "execution_count": 703,
   "metadata": {
    "collapsed": false
   },
   "outputs": [],
   "source": [
    "#Here skin_tone is the dataframe with the ratings of each player. We add the labels as column in\n",
    "#the dataframe such that the ratio of each ratings is easy to calculate\n",
    "\n",
    "def compute_ratio(labels,evaluate = skin_tone):\n",
    "    evaluate['labels'] = labels\n",
    "    ratings = [0,0.25,0.5,0.75,1]\n",
    "    ratio_in_cluster0 = []\n",
    "    for i in ratings:\n",
    "        ratio = evaluate[evaluate['rater1'] == i]['labels'].value_counts()[0]/np.sum(evaluate[evaluate['rater1'] == i]['labels'].value_counts())\n",
    "        ratio_in_cluster0.append(ratio)\n",
    "    return ratio_in_cluster0"
   ]
  },
  {
   "cell_type": "code",
   "execution_count": 834,
   "metadata": {
    "collapsed": false
   },
   "outputs": [
    {
     "data": {
      "text/plain": [
       "[0.90189487609497887,\n",
       " 0.90233675826644844,\n",
       " 0.90147273952258145,\n",
       " 0.52905772991735256,\n",
       " 0.4858641282920208,\n",
       " 0.63069225468311985,\n",
       " 0.63069225531715845,\n",
       " 0.63069226814727186,\n",
       " 0.63069235533025991,\n",
       " 0.63069697714088913,\n",
       " 0.63116538202874028,\n",
       " 0.63160331801608505,\n",
       " 0.76712104517953594]"
      ]
     },
     "execution_count": 834,
     "metadata": {},
     "output_type": "execute_result"
    }
   ],
   "source": [
    "#This is the scores obtained\n",
    "\n",
    "scores"
   ]
  },
  {
   "cell_type": "code",
   "execution_count": 838,
   "metadata": {
    "collapsed": false
   },
   "outputs": [
    {
     "data": {
      "text/plain": [
       "array([[ 0.99056604,  0.99574468,  0.97413793,  0.98076923,  0.9673913 ],\n",
       "       [ 0.99056604,  0.99574468,  0.97413793,  0.98076923,  0.9673913 ],\n",
       "       [ 0.99056604,  0.99574468,  0.97413793,  0.98076923,  0.9673913 ],\n",
       "       [ 0.91509434,  0.8893617 ,  0.9137931 ,  0.875     ,  0.81521739]])"
      ]
     },
     "execution_count": 838,
     "metadata": {},
     "output_type": "execute_result"
    }
   ],
   "source": [
    "#Now that we have the best subsets for each size and their caracteristics, we just have to check if there is racism\n",
    "\n",
    "#We define a high score with a treshold of 0.75 :\n",
    "\n",
    "treshold = 0.75\n",
    "index = [i for i in range(len(scores)) if scores[i] > 0.75]\n",
    "high_scores = np.array(scores)[index]\n",
    "corresponding_columns = np.array(cols)[index]\n",
    "corresponding_ratios_in_cluster0 = np.array(ratios)[index]\n",
    "\n",
    "#We see if there is racism by inspecting the ratios of each subset :\n",
    "\n",
    "corresponding_ratios_in_cluster0"
   ]
  },
  {
   "cell_type": "code",
   "execution_count": 841,
   "metadata": {
    "collapsed": true
   },
   "outputs": [],
   "source": [
    "#From that corresponding_ratios, we can see that for the subsets with a high silhouette score, there is\n",
    "#no racism since the ratios of light persons and dark persons are really high for the first cluster.\n",
    "\n",
    "#We can conclude that there is no configuration of features with high silhouette score where players\n",
    "#with dark and light skin colors belong to different clusters"
   ]
  },
  {
   "cell_type": "code",
   "execution_count": 840,
   "metadata": {
    "collapsed": false
   },
   "outputs": [
    {
     "data": {
      "text/plain": [
       "[[0.99056603773584906,\n",
       "  0.99574468085106382,\n",
       "  0.97413793103448276,\n",
       "  0.98076923076923073,\n",
       "  0.96739130434782605],\n",
       " [0.99056603773584906,\n",
       "  0.99574468085106382,\n",
       "  0.97413793103448276,\n",
       "  0.98076923076923073,\n",
       "  0.96739130434782605],\n",
       " [0.99056603773584906,\n",
       "  0.99574468085106382,\n",
       "  0.97413793103448276,\n",
       "  0.98076923076923073,\n",
       "  0.96739130434782605],\n",
       " [0.24056603773584906,\n",
       "  0.30212765957446808,\n",
       "  0.28448275862068967,\n",
       "  0.19230769230769232,\n",
       "  0.29347826086956524],\n",
       " [0.37264150943396224,\n",
       "  0.44042553191489364,\n",
       "  0.37931034482758619,\n",
       "  0.29807692307692307,\n",
       "  0.41304347826086957],\n",
       " [0.90801886792452835,\n",
       "  0.88723404255319149,\n",
       "  0.91379310344827591,\n",
       "  0.875,\n",
       "  0.81521739130434778],\n",
       " [0.90801886792452835,\n",
       "  0.88723404255319149,\n",
       "  0.91379310344827591,\n",
       "  0.875,\n",
       "  0.81521739130434778],\n",
       " [0.90801886792452835,\n",
       "  0.88723404255319149,\n",
       "  0.91379310344827591,\n",
       "  0.875,\n",
       "  0.81521739130434778],\n",
       " [0.90801886792452835,\n",
       "  0.88723404255319149,\n",
       "  0.91379310344827591,\n",
       "  0.875,\n",
       "  0.81521739130434778],\n",
       " [0.90801886792452835,\n",
       "  0.88723404255319149,\n",
       "  0.91379310344827591,\n",
       "  0.875,\n",
       "  0.81521739130434778],\n",
       " [0.90801886792452835,\n",
       "  0.88723404255319149,\n",
       "  0.91379310344827591,\n",
       "  0.875,\n",
       "  0.81521739130434778],\n",
       " [0.90801886792452835,\n",
       "  0.88723404255319149,\n",
       "  0.91379310344827591,\n",
       "  0.875,\n",
       "  0.81521739130434778],\n",
       " [0.91509433962264153,\n",
       "  0.88936170212765953,\n",
       "  0.91379310344827591,\n",
       "  0.875,\n",
       "  0.81521739130434778]]"
      ]
     },
     "execution_count": 840,
     "metadata": {},
     "output_type": "execute_result"
    }
   ],
   "source": [
    "#Actually, even if we don't care of the silhouette score, there is no racism since the ratios for dark\n",
    "#persons are not so different than the ones for light persons\n",
    "\n",
    "ratios"
   ]
  },
  {
   "cell_type": "code",
   "execution_count": null,
   "metadata": {
    "collapsed": true
   },
   "outputs": [],
   "source": []
  },
  {
   "cell_type": "code",
   "execution_count": null,
   "metadata": {
    "collapsed": true
   },
   "outputs": [],
   "source": []
  },
  {
   "cell_type": "code",
   "execution_count": null,
   "metadata": {
    "collapsed": true
   },
   "outputs": [],
   "source": []
  },
  {
   "cell_type": "code",
   "execution_count": null,
   "metadata": {
    "collapsed": true
   },
   "outputs": [],
   "source": []
  }
 ],
 "metadata": {
  "anaconda-cloud": {},
  "kernelspec": {
   "display_name": "Python [Root]",
   "language": "python",
   "name": "Python [Root]"
  },
  "language_info": {
   "codemirror_mode": {
    "name": "ipython",
    "version": 3
   },
   "file_extension": ".py",
   "mimetype": "text/x-python",
   "name": "python",
   "nbconvert_exporter": "python",
   "pygments_lexer": "ipython3",
   "version": "3.5.2"
  }
 },
 "nbformat": 4,
 "nbformat_minor": 0
}
