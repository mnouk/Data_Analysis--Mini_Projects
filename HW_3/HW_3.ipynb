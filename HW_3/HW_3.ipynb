{
 "cells": [
  {
   "cell_type": "markdown",
   "metadata": {},
   "source": [
    "                      BEGIN WITH IMPORTING THE GRANTS DATA USING PANDAS And CLEANING\n",
    "                         "
   ]
  },
  {
   "cell_type": "code",
   "execution_count": 1,
   "metadata": {
    "collapsed": true
   },
   "outputs": [],
   "source": [
    "import pandas as pd"
   ]
  },
  {
   "cell_type": "code",
   "execution_count": 2,
   "metadata": {
    "collapsed": false
   },
   "outputs": [],
   "source": [
    "g = pd.read_csv('grants.csv', sep = ';', index_col = \"Project Number\",\\\n",
    "                na_values = [\"Nicht zuteilbar - NA\",\"NPO (Biblioth., Museen, Verwalt.) - NPO\",\\\n",
    "                             \"data not included in P3\"]) "
   ]
  },
  {
   "cell_type": "code",
   "execution_count": 3,
   "metadata": {
    "collapsed": false
   },
   "outputs": [],
   "source": [
    "## Firstly, we clean the data and drop unnecessary columns for the purpose of this exercise.\n",
    "\n",
    "g.drop(['Responsible Applicant','Project Title','Project Title English',\\\n",
    "        'Funding Instrument','Funding Instrument Hierarchy',\"Start Date\",\\\n",
    "        'End Date','Discipline Number','Discipline Name','Discipline Name Hierarchy',\\\n",
    "        'Keywords'], axis = 1, inplace = True)"
   ]
  },
  {
   "cell_type": "code",
   "execution_count": 4,
   "metadata": {
    "collapsed": false
   },
   "outputs": [
    {
     "data": {
      "text/html": [
       "<div>\n",
       "<table border=\"1\" class=\"dataframe\">\n",
       "  <thead>\n",
       "    <tr style=\"text-align: right;\">\n",
       "      <th></th>\n",
       "      <th>Institution</th>\n",
       "      <th>University</th>\n",
       "      <th>Approved Amount</th>\n",
       "    </tr>\n",
       "    <tr>\n",
       "      <th>Project Number</th>\n",
       "      <th></th>\n",
       "      <th></th>\n",
       "      <th></th>\n",
       "    </tr>\n",
       "  </thead>\n",
       "  <tbody>\n",
       "    <tr>\n",
       "      <th>1</th>\n",
       "      <td>NaN</td>\n",
       "      <td>NaN</td>\n",
       "      <td>11619.0</td>\n",
       "    </tr>\n",
       "    <tr>\n",
       "      <th>4</th>\n",
       "      <td>Faculté de Psychologie et des Sciences de l'Ed...</td>\n",
       "      <td>Université de Genève - GE</td>\n",
       "      <td>41022.0</td>\n",
       "    </tr>\n",
       "    <tr>\n",
       "      <th>5</th>\n",
       "      <td>Kommission für das Corpus philosophorum medii ...</td>\n",
       "      <td>NaN</td>\n",
       "      <td>79732.0</td>\n",
       "    </tr>\n",
       "    <tr>\n",
       "      <th>6</th>\n",
       "      <td>Abt. Handschriften und Alte Drucke Bibliothek ...</td>\n",
       "      <td>Universität Basel - BS</td>\n",
       "      <td>52627.0</td>\n",
       "    </tr>\n",
       "    <tr>\n",
       "      <th>7</th>\n",
       "      <td>Schweiz. Thesauruskommission</td>\n",
       "      <td>NaN</td>\n",
       "      <td>120042.0</td>\n",
       "    </tr>\n",
       "    <tr>\n",
       "      <th>8</th>\n",
       "      <td>Séminaire de politique économique, d'économie ...</td>\n",
       "      <td>Université de Fribourg - FR</td>\n",
       "      <td>53009.0</td>\n",
       "    </tr>\n",
       "    <tr>\n",
       "      <th>9</th>\n",
       "      <td>Institut für ökumenische Studien Université de...</td>\n",
       "      <td>Université de Fribourg - FR</td>\n",
       "      <td>25403.0</td>\n",
       "    </tr>\n",
       "    <tr>\n",
       "      <th>10</th>\n",
       "      <td>Ostasiatisches Seminar Universität Zürich</td>\n",
       "      <td>Universität Zürich - ZH</td>\n",
       "      <td>47100.0</td>\n",
       "    </tr>\n",
       "    <tr>\n",
       "      <th>11</th>\n",
       "      <td>NaN</td>\n",
       "      <td>Université de Lausanne - LA</td>\n",
       "      <td>25814.0</td>\n",
       "    </tr>\n",
       "    <tr>\n",
       "      <th>13</th>\n",
       "      <td>Laboratoire de Didactique et Epistémologie des...</td>\n",
       "      <td>Université de Genève - GE</td>\n",
       "      <td>360000.0</td>\n",
       "    </tr>\n",
       "  </tbody>\n",
       "</table>\n",
       "</div>"
      ],
      "text/plain": [
       "                                                      Institution  \\\n",
       "Project Number                                                      \n",
       "1                                                             NaN   \n",
       "4               Faculté de Psychologie et des Sciences de l'Ed...   \n",
       "5               Kommission für das Corpus philosophorum medii ...   \n",
       "6               Abt. Handschriften und Alte Drucke Bibliothek ...   \n",
       "7                                    Schweiz. Thesauruskommission   \n",
       "8               Séminaire de politique économique, d'économie ...   \n",
       "9               Institut für ökumenische Studien Université de...   \n",
       "10                      Ostasiatisches Seminar Universität Zürich   \n",
       "11                                                            NaN   \n",
       "13              Laboratoire de Didactique et Epistémologie des...   \n",
       "\n",
       "                                 University  Approved Amount  \n",
       "Project Number                                                \n",
       "1                                       NaN          11619.0  \n",
       "4                 Université de Genève - GE          41022.0  \n",
       "5                                       NaN          79732.0  \n",
       "6                    Universität Basel - BS          52627.0  \n",
       "7                                       NaN         120042.0  \n",
       "8               Université de Fribourg - FR          53009.0  \n",
       "9               Université de Fribourg - FR          25403.0  \n",
       "10                  Universität Zürich - ZH          47100.0  \n",
       "11              Université de Lausanne - LA          25814.0  \n",
       "13                Université de Genève - GE         360000.0  "
      ]
     },
     "execution_count": 4,
     "metadata": {},
     "output_type": "execute_result"
    }
   ],
   "source": [
    "## Always good to have a quick look at the data\n",
    "g.head(10)"
   ]
  },
  {
   "cell_type": "code",
   "execution_count": 5,
   "metadata": {
    "collapsed": false
   },
   "outputs": [],
   "source": [
    "## Dropping incomplete data i.e. with two null values \n",
    "g.dropna(thresh = 2, inplace = True)"
   ]
  },
  {
   "cell_type": "code",
   "execution_count": 6,
   "metadata": {
    "collapsed": false
   },
   "outputs": [
    {
     "data": {
      "text/plain": [
       "(49847, 3)"
      ]
     },
     "execution_count": 6,
     "metadata": {},
     "output_type": "execute_result"
    }
   ],
   "source": [
    "## The (almost) 'useful' data as there are some fields with Amount missing which we shall drop later\n",
    "g.shape"
   ]
  },
  {
   "cell_type": "markdown",
   "metadata": {},
   "source": [
    "          STEP 1 : WE GET DATAFRAMES WHERE WE HAVE EXACTLY ONE ENTRY EITHER INSTITUTION OR UNIVERSITY"
   ]
  },
  {
   "cell_type": "code",
   "execution_count": 7,
   "metadata": {
    "collapsed": false
   },
   "outputs": [
    {
     "data": {
      "text/plain": [
       "(1742,)"
      ]
     },
     "execution_count": 7,
     "metadata": {},
     "output_type": "execute_result"
    }
   ],
   "source": [
    "ins_only = pd.DataFrame(g.loc[g.University.isnull()])\n",
    "ins_only.drop('University', axis = 1, inplace = True)\n",
    "ins_only.Institution.value_counts().shape"
   ]
  },
  {
   "cell_type": "code",
   "execution_count": 8,
   "metadata": {
    "collapsed": false
   },
   "outputs": [
    {
     "data": {
      "text/html": [
       "<div>\n",
       "<table border=\"1\" class=\"dataframe\">\n",
       "  <thead>\n",
       "    <tr style=\"text-align: right;\">\n",
       "      <th></th>\n",
       "      <th>Institution</th>\n",
       "      <th>Approved Amount</th>\n",
       "    </tr>\n",
       "    <tr>\n",
       "      <th>Project Number</th>\n",
       "      <th></th>\n",
       "      <th></th>\n",
       "    </tr>\n",
       "  </thead>\n",
       "  <tbody>\n",
       "    <tr>\n",
       "      <th>5</th>\n",
       "      <td>Kommission für das Corpus philosophorum medii ...</td>\n",
       "      <td>79732.0</td>\n",
       "    </tr>\n",
       "    <tr>\n",
       "      <th>7</th>\n",
       "      <td>Schweiz. Thesauruskommission</td>\n",
       "      <td>120042.0</td>\n",
       "    </tr>\n",
       "    <tr>\n",
       "      <th>17</th>\n",
       "      <td>Schweizerische Rechtsquellen c/o Universität Z...</td>\n",
       "      <td>862200.0</td>\n",
       "    </tr>\n",
       "    <tr>\n",
       "      <th>36</th>\n",
       "      <td>Schweizerische Gesellschaft für Volkskunde</td>\n",
       "      <td>225000.0</td>\n",
       "    </tr>\n",
       "    <tr>\n",
       "      <th>37</th>\n",
       "      <td>Kuratorium Carl J. Burckhardt</td>\n",
       "      <td>179124.0</td>\n",
       "    </tr>\n",
       "  </tbody>\n",
       "</table>\n",
       "</div>"
      ],
      "text/plain": [
       "                                                      Institution  \\\n",
       "Project Number                                                      \n",
       "5               Kommission für das Corpus philosophorum medii ...   \n",
       "7                                    Schweiz. Thesauruskommission   \n",
       "17              Schweizerische Rechtsquellen c/o Universität Z...   \n",
       "36                     Schweizerische Gesellschaft für Volkskunde   \n",
       "37                                  Kuratorium Carl J. Burckhardt   \n",
       "\n",
       "                Approved Amount  \n",
       "Project Number                   \n",
       "5                       79732.0  \n",
       "7                      120042.0  \n",
       "17                     862200.0  \n",
       "36                     225000.0  \n",
       "37                     179124.0  "
      ]
     },
     "execution_count": 8,
     "metadata": {},
     "output_type": "execute_result"
    }
   ],
   "source": [
    "ins_only.head()"
   ]
  },
  {
   "cell_type": "code",
   "execution_count": 9,
   "metadata": {
    "collapsed": false
   },
   "outputs": [
    {
     "data": {
      "text/plain": [
       "(75,)"
      ]
     },
     "execution_count": 9,
     "metadata": {},
     "output_type": "execute_result"
    }
   ],
   "source": [
    "uni_only = pd.DataFrame(g.loc[(g.University.notnull())])\n",
    "uni_only.drop('Institution', axis = 1, inplace = True)\n",
    "uni_only.University.value_counts().shape"
   ]
  },
  {
   "cell_type": "code",
   "execution_count": 10,
   "metadata": {
    "collapsed": false
   },
   "outputs": [
    {
     "data": {
      "text/html": [
       "<div>\n",
       "<table border=\"1\" class=\"dataframe\">\n",
       "  <thead>\n",
       "    <tr style=\"text-align: right;\">\n",
       "      <th></th>\n",
       "      <th>University</th>\n",
       "      <th>Approved Amount</th>\n",
       "    </tr>\n",
       "    <tr>\n",
       "      <th>Project Number</th>\n",
       "      <th></th>\n",
       "      <th></th>\n",
       "    </tr>\n",
       "  </thead>\n",
       "  <tbody>\n",
       "    <tr>\n",
       "      <th>4</th>\n",
       "      <td>Université de Genève - GE</td>\n",
       "      <td>41022.0</td>\n",
       "    </tr>\n",
       "    <tr>\n",
       "      <th>6</th>\n",
       "      <td>Universität Basel - BS</td>\n",
       "      <td>52627.0</td>\n",
       "    </tr>\n",
       "    <tr>\n",
       "      <th>8</th>\n",
       "      <td>Université de Fribourg - FR</td>\n",
       "      <td>53009.0</td>\n",
       "    </tr>\n",
       "    <tr>\n",
       "      <th>9</th>\n",
       "      <td>Université de Fribourg - FR</td>\n",
       "      <td>25403.0</td>\n",
       "    </tr>\n",
       "    <tr>\n",
       "      <th>10</th>\n",
       "      <td>Universität Zürich - ZH</td>\n",
       "      <td>47100.0</td>\n",
       "    </tr>\n",
       "  </tbody>\n",
       "</table>\n",
       "</div>"
      ],
      "text/plain": [
       "                                 University  Approved Amount\n",
       "Project Number                                              \n",
       "4                 Université de Genève - GE          41022.0\n",
       "6                    Universität Basel - BS          52627.0\n",
       "8               Université de Fribourg - FR          53009.0\n",
       "9               Université de Fribourg - FR          25403.0\n",
       "10                  Universität Zürich - ZH          47100.0"
      ]
     },
     "execution_count": 10,
     "metadata": {},
     "output_type": "execute_result"
    }
   ],
   "source": [
    "uni_only.head()"
   ]
  },
  {
   "cell_type": "code",
   "execution_count": 11,
   "metadata": {
    "collapsed": false
   },
   "outputs": [],
   "source": [
    "institutions = ins_only.Institution.value_counts().index.values\n",
    "universities = uni_only.University.value_counts().index.values"
   ]
  },
  {
   "cell_type": "code",
   "execution_count": 12,
   "metadata": {
    "collapsed": false
   },
   "outputs": [],
   "source": [
    "import googlemaps\n",
    "import json\n",
    "encoder = json.JSONEncoder()\n",
    "decoder = json.JSONDecoder()"
   ]
  },
  {
   "cell_type": "code",
   "execution_count": 13,
   "metadata": {
    "collapsed": false
   },
   "outputs": [],
   "source": [
    "## Google Places API key \n",
    "client = googlemaps.Client(key = open('Mappyman.txt').read())"
   ]
  },
  {
   "cell_type": "code",
   "execution_count": 14,
   "metadata": {
    "collapsed": true
   },
   "outputs": [],
   "source": [
    "import numpy"
   ]
  },
  {
   "cell_type": "markdown",
   "metadata": {},
   "source": [
    "                                     PUT YOUR GOOGLE API KEY in 'Mappyman.txt' to RUN"
   ]
  },
  {
   "cell_type": "code",
   "execution_count": 15,
   "metadata": {
    "collapsed": true
   },
   "outputs": [],
   "source": [
    "institutions_cantons = {}\n",
    "universities_cantons = {}"
   ]
  },
  {
   "cell_type": "code",
   "execution_count": 16,
   "metadata": {
    "collapsed": false
   },
   "outputs": [],
   "source": [
    "## Script to download the canton corresponding to the institution, default is nan\n",
    "for i in institutions:\n",
    "    institutions_cantons[i] = numpy.nan\n",
    "    response = (encoder.encode(client.places(i.decode('utf-8'))))\n",
    "    if(\"Switzerland\" in response):\n",
    "        place_id = decoder.decode(response)['results'][0]['place_id']\n",
    "        place_resp = client.place(place_id)\n",
    "        canton_id = (item for item in place_resp['result']['address_components']if (item['types'] == [u'administrative_area_level_1', u'political'])).next()['short_name']\n",
    "        institutions_cantons[i] = canton_id  "
   ]
  },
  {
   "cell_type": "code",
   "execution_count": 18,
   "metadata": {
    "collapsed": true
   },
   "outputs": [],
   "source": [
    "## Dumping file \n",
    "import json\n",
    "json.dump(institutions_cantons, open(\"institutions_cantons.txt\",'w'))"
   ]
  },
  {
   "cell_type": "code",
   "execution_count": 19,
   "metadata": {
    "collapsed": false
   },
   "outputs": [],
   "source": [
    "## Script to download the canton corresponding to the university, default is nan\n",
    "\n",
    "for u in universities:\n",
    "    universities_cantons[u] = numpy.nan\n",
    "    resp = encoder.encode(client.places(u.decode('utf-8')))\n",
    "    if \"Switzerland\" in resp:\n",
    "        place_id = decoder.decode(resp)['results'][0]['place_id']\n",
    "        place_resp = client.place(place_id)\n",
    "        canton_id = (item for item in place_resp['result']['address_components']\\\n",
    "                     if (item['types'] == [u'administrative_area_level_1', u'political'])).next()['short_name']\n",
    "        universities_cantons[u] = canton_id"
   ]
  },
  {
   "cell_type": "code",
   "execution_count": 20,
   "metadata": {
    "collapsed": true
   },
   "outputs": [],
   "source": [
    "## Dumping file\n",
    "json.dump(universities_cantons, open(\"universities_cantons.txt\",'w'))"
   ]
  },
  {
   "cell_type": "markdown",
   "metadata": {},
   "source": [
    "                          CAN RUN THE FOLLOWING USING THE DUMPED JSON FILES"
   ]
  },
  {
   "cell_type": "code",
   "execution_count": 35,
   "metadata": {
    "collapsed": false
   },
   "outputs": [
    {
     "name": "stderr",
     "output_type": "stream",
     "text": [
      "//anaconda/envs/python2/lib/python2.7/site-packages/pandas/core/internals.py:4583: UnicodeWarning: Unicode equal comparison failed to convert both arguments to Unicode - interpreting them as being unequal\n",
      "  result = op(a, b)\n"
     ]
    }
   ],
   "source": [
    "## We now map the values of our dictionary into the respective dataframes\n",
    "\n",
    "ins_only.replace({\"Institution\": institutions_cantons }, inplace = True)\n",
    "uni_only.replace({\"University\" : universities_cantons }, inplace = True)"
   ]
  },
  {
   "cell_type": "code",
   "execution_count": 36,
   "metadata": {
    "collapsed": false
   },
   "outputs": [],
   "source": [
    "## We drop the values that are nan i.e. not found in the google places API\n",
    "institute = ins_only.dropna(how = 'any').reset_index()\n",
    "university = uni_only.dropna(how = 'any').reset_index()"
   ]
  },
  {
   "cell_type": "code",
   "execution_count": 37,
   "metadata": {
    "collapsed": false
   },
   "outputs": [],
   "source": [
    "ins_groups =  institute.groupby(\"Institution\").sum()\n",
    "ins_groups = ins_groups.reset_index()\n",
    "ins_groups.columns = [\"Canton\",\"Project Number\",\"Amount\" ]\n",
    "\n",
    "\n",
    "uni_groups =  university.groupby(\"University\").sum()\n",
    "uni_groups = uni_groups.reset_index()\n",
    "uni_groups.columns = [\"Canton\",\"Project Number\",\"Amount\" ]\n",
    "\n"
   ]
  },
  {
   "cell_type": "code",
   "execution_count": 56,
   "metadata": {
    "collapsed": false
   },
   "outputs": [],
   "source": [
    "final = pd.merge(ins_groups, uni_groups, on = \"Canton\", how = \"outer\")\n",
    "final.fillna(0, inplace = True)\n"
   ]
  },
  {
   "cell_type": "code",
   "execution_count": 57,
   "metadata": {
    "collapsed": true
   },
   "outputs": [],
   "source": [
    "final['Total_amount'] = final['Amount_x'] + final['Amount_y']"
   ]
  },
  {
   "cell_type": "code",
   "execution_count": 58,
   "metadata": {
    "collapsed": false
   },
   "outputs": [],
   "source": [
    "final.drop(['Project Number_x','Amount_x','Project Number_y','Amount_y'], axis = 1 , inplace = True)"
   ]
  },
  {
   "cell_type": "code",
   "execution_count": 59,
   "metadata": {
    "collapsed": false
   },
   "outputs": [],
   "source": [
    "## Amounts in hundred thousands\n",
    "final.Total_amount = final.Total_amount/100000"
   ]
  },
  {
   "cell_type": "code",
   "execution_count": 60,
   "metadata": {
    "collapsed": true
   },
   "outputs": [],
   "source": [
    "## Adding missing cantons for mapping topojson to the final dataframe\n",
    "missing_cantons = pd.DataFrame([[\"AI\",0.0], [\"GL\", 0.0],[\"NW\", 0.0],[u'OW', 0.0]], columns=[\"Canton\", \"Total_amount\"])"
   ]
  },
  {
   "cell_type": "code",
   "execution_count": 196,
   "metadata": {
    "collapsed": false
   },
   "outputs": [
    {
     "data": {
      "text/html": [
       "<div>\n",
       "<table border=\"1\" class=\"dataframe\">\n",
       "  <thead>\n",
       "    <tr style=\"text-align: right;\">\n",
       "      <th></th>\n",
       "      <th>Canton</th>\n",
       "      <th>Total_amount</th>\n",
       "    </tr>\n",
       "  </thead>\n",
       "  <tbody>\n",
       "    <tr>\n",
       "      <th>0</th>\n",
       "      <td>AG</td>\n",
       "      <td>1222.573649</td>\n",
       "    </tr>\n",
       "    <tr>\n",
       "      <th>1</th>\n",
       "      <td>AR</td>\n",
       "      <td>3.560000</td>\n",
       "    </tr>\n",
       "    <tr>\n",
       "      <th>2</th>\n",
       "      <td>BE</td>\n",
       "      <td>15833.923956</td>\n",
       "    </tr>\n",
       "    <tr>\n",
       "      <th>3</th>\n",
       "      <td>BL</td>\n",
       "      <td>55.792610</td>\n",
       "    </tr>\n",
       "    <tr>\n",
       "      <th>4</th>\n",
       "      <td>BS</td>\n",
       "      <td>14203.106890</td>\n",
       "    </tr>\n",
       "    <tr>\n",
       "      <th>5</th>\n",
       "      <td>FR</td>\n",
       "      <td>4628.999940</td>\n",
       "    </tr>\n",
       "    <tr>\n",
       "      <th>6</th>\n",
       "      <td>GE</td>\n",
       "      <td>19034.367161</td>\n",
       "    </tr>\n",
       "    <tr>\n",
       "      <th>7</th>\n",
       "      <td>GR</td>\n",
       "      <td>343.159720</td>\n",
       "    </tr>\n",
       "    <tr>\n",
       "      <th>8</th>\n",
       "      <td>JU</td>\n",
       "      <td>349.023585</td>\n",
       "    </tr>\n",
       "    <tr>\n",
       "      <th>9</th>\n",
       "      <td>LU</td>\n",
       "      <td>620.616633</td>\n",
       "    </tr>\n",
       "    <tr>\n",
       "      <th>10</th>\n",
       "      <td>NE</td>\n",
       "      <td>3854.423933</td>\n",
       "    </tr>\n",
       "    <tr>\n",
       "      <th>11</th>\n",
       "      <td>SG</td>\n",
       "      <td>963.846974</td>\n",
       "    </tr>\n",
       "    <tr>\n",
       "      <th>12</th>\n",
       "      <td>SH</td>\n",
       "      <td>11.174840</td>\n",
       "    </tr>\n",
       "    <tr>\n",
       "      <th>13</th>\n",
       "      <td>SO</td>\n",
       "      <td>436.664451</td>\n",
       "    </tr>\n",
       "    <tr>\n",
       "      <th>14</th>\n",
       "      <td>SZ</td>\n",
       "      <td>16.387180</td>\n",
       "    </tr>\n",
       "    <tr>\n",
       "      <th>15</th>\n",
       "      <td>TG</td>\n",
       "      <td>60.426720</td>\n",
       "    </tr>\n",
       "    <tr>\n",
       "      <th>16</th>\n",
       "      <td>TI</td>\n",
       "      <td>1211.653039</td>\n",
       "    </tr>\n",
       "    <tr>\n",
       "      <th>17</th>\n",
       "      <td>UR</td>\n",
       "      <td>1.050000</td>\n",
       "    </tr>\n",
       "    <tr>\n",
       "      <th>18</th>\n",
       "      <td>VD</td>\n",
       "      <td>23811.727480</td>\n",
       "    </tr>\n",
       "    <tr>\n",
       "      <th>19</th>\n",
       "      <td>VS</td>\n",
       "      <td>286.783212</td>\n",
       "    </tr>\n",
       "    <tr>\n",
       "      <th>20</th>\n",
       "      <td>ZG</td>\n",
       "      <td>94.785050</td>\n",
       "    </tr>\n",
       "    <tr>\n",
       "      <th>21</th>\n",
       "      <td>ZH</td>\n",
       "      <td>36332.175105</td>\n",
       "    </tr>\n",
       "    <tr>\n",
       "      <th>22</th>\n",
       "      <td>AI</td>\n",
       "      <td>0.000000</td>\n",
       "    </tr>\n",
       "    <tr>\n",
       "      <th>23</th>\n",
       "      <td>GL</td>\n",
       "      <td>0.000000</td>\n",
       "    </tr>\n",
       "    <tr>\n",
       "      <th>24</th>\n",
       "      <td>NW</td>\n",
       "      <td>0.000000</td>\n",
       "    </tr>\n",
       "    <tr>\n",
       "      <th>25</th>\n",
       "      <td>OW</td>\n",
       "      <td>0.000000</td>\n",
       "    </tr>\n",
       "  </tbody>\n",
       "</table>\n",
       "</div>"
      ],
      "text/plain": [
       "   Canton  Total_amount\n",
       "0      AG   1222.573649\n",
       "1      AR      3.560000\n",
       "2      BE  15833.923956\n",
       "3      BL     55.792610\n",
       "4      BS  14203.106890\n",
       "5      FR   4628.999940\n",
       "6      GE  19034.367161\n",
       "7      GR    343.159720\n",
       "8      JU    349.023585\n",
       "9      LU    620.616633\n",
       "10     NE   3854.423933\n",
       "11     SG    963.846974\n",
       "12     SH     11.174840\n",
       "13     SO    436.664451\n",
       "14     SZ     16.387180\n",
       "15     TG     60.426720\n",
       "16     TI   1211.653039\n",
       "17     UR      1.050000\n",
       "18     VD  23811.727480\n",
       "19     VS    286.783212\n",
       "20     ZG     94.785050\n",
       "21     ZH  36332.175105\n",
       "22     AI      0.000000\n",
       "23     GL      0.000000\n",
       "24     NW      0.000000\n",
       "25     OW      0.000000"
      ]
     },
     "execution_count": 196,
     "metadata": {},
     "output_type": "execute_result"
    }
   ],
   "source": [
    "final_DF=final.append(missing_cantons, ignore_index = True)"
   ]
  },
  {
   "cell_type": "markdown",
   "metadata": {},
   "source": [
    "                   WE HAVE NOW TO MAP THE VALUES ACCORDING TO THE AMOUNTS PER CANTON USING FOLIUM "
   ]
  },
  {
   "cell_type": "code",
   "execution_count": 105,
   "metadata": {
    "collapsed": false
   },
   "outputs": [],
   "source": [
    "import folium"
   ]
  },
  {
   "cell_type": "code",
   "execution_count": 123,
   "metadata": {
    "collapsed": false
   },
   "outputs": [],
   "source": [
    "## Run with the topojson provided in the git directory \n",
    "\n",
    "topology_ch_cantons = r'ch-cantons.topojson.json'\n",
    "\n",
    "map_cantons = folium.Map(location=[46.5, 8], zoom_start=7)\n",
    "\n",
    "map_cantons.choropleth(geo_path = topology_ch_cantons,\n",
    "            data=final_DF,\n",
    "            columns=['Canton', 'Total_amount'],\n",
    "            key_on='feature.id',\n",
    "            threshold_scale=[0,100, 500, 1000, 1500, 2000],\n",
    "            fill_color='PuRd',\n",
    "            fill_opacity=0.5,\n",
    "            line_opacity=0.8,\n",
    "            legend_name='Total Amount In Hundreds Of Thousands CHF ',\n",
    "            topojson='objects.cantons')\n",
    "\n",
    "map_cantons\n",
    "\n",
    "## Saving the map to HTML format for students' evaluation without calling the API\n",
    "\n",
    "#map_cantons.save('map_cantons_final.html')"
   ]
  },
  {
   "cell_type": "markdown",
   "metadata": {},
   "source": [
    "BONUS"
   ]
  },
  {
   "cell_type": "raw",
   "metadata": {},
   "source": [
    "The problem of multilingual cantons was judged based on geography and language majority.\n",
    "\n",
    "Assigned as German part:\n",
    "Graubunden has 3 languages, but clearly on the German side and 35% speak German, Bern has 2 languages, but 85.1% speaks German.\n",
    "\n",
    "Assigned as French part:\n",
    "Fribourg and Valais are bordering French cantons and two thirds of population speak French, "
   ]
  },
  {
   "cell_type": "code",
   "execution_count": 167,
   "metadata": {
    "collapsed": false
   },
   "outputs": [
    {
     "data": {
      "text/html": [
       "<div>\n",
       "<table border=\"1\" class=\"dataframe\">\n",
       "  <thead>\n",
       "    <tr style=\"text-align: right;\">\n",
       "      <th></th>\n",
       "      <th>Total_amount</th>\n",
       "    </tr>\n",
       "  </thead>\n",
       "  <tbody>\n",
       "    <tr>\n",
       "      <th>0</th>\n",
       "      <td>67511.604584</td>\n",
       "    </tr>\n",
       "    <tr>\n",
       "      <th>1</th>\n",
       "      <td>1211.653039</td>\n",
       "    </tr>\n",
       "    <tr>\n",
       "      <th>2</th>\n",
       "      <td>54648.543035</td>\n",
       "    </tr>\n",
       "  </tbody>\n",
       "</table>\n",
       "</div>"
      ],
      "text/plain": [
       "   Total_amount\n",
       "0  67511.604584\n",
       "1   1211.653039\n",
       "2  54648.543035"
      ]
     },
     "execution_count": 167,
     "metadata": {},
     "output_type": "execute_result"
    }
   ],
   "source": [
    "french = final_DF.loc[final_DF['Canton'].isin(['VD','FR','NE','GE','JU','BE','VL'])]\n",
    "italian = final_DF.loc[final_DF['Canton'].isin(['TI'])]\n",
    "german = final_DF.loc[final_DF['Canton'].isin(['AG','BL','BS','GR','LU','SG','SH','SO','SZ','TG','UR','VS','ZG','ZH'])]\n",
    "Rostigraben = pd.DataFrame([french['Total_amount'].sum(),italian['Total_amount'].sum(),german['Total_amount'].sum()],columns=[\"Total_amount\"])\n",
    "#Rostigraben.reset_index(level=1,inplace=True)\n",
    "#Rostigraben.columns=[\"Part of Switzerland\",\"Total\"]\n",
    "Rostigraben"
   ]
  },
  {
   "cell_type": "markdown",
   "metadata": {},
   "source": [
    "French part has the most funding, German part is closely behind, but the relative size of these parts and the assumptions we made about regional splits should be taken into account."
   ]
  }
 ],
 "metadata": {
  "anaconda-cloud": {},
  "kernelspec": {
   "display_name": "Python [python2]",
   "language": "python",
   "name": "Python [python2]"
  },
  "language_info": {
   "codemirror_mode": {
    "name": "ipython",
    "version": 2
   },
   "file_extension": ".py",
   "mimetype": "text/x-python",
   "name": "python",
   "nbconvert_exporter": "python",
   "pygments_lexer": "ipython2",
   "version": "2.7.12"
  }
 },
 "nbformat": 4,
 "nbformat_minor": 0
}
